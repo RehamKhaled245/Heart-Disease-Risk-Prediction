{
 "cells": [
  {
   "cell_type": "markdown",
   "metadata": {},
   "source": [
    "### **1. Objective (Goal of the Dataset)**  \n",
    "The goal is to **develop a machine learning model** that can **predict the risk of heart disease** based on **health and lifestyle factors**.\n",
    "\n",
    "- **Target Variable:**  \n",
    "  - **Heart_Risk**:  \n",
    "    - **1**: High risk of heart disease.  \n",
    "    - **0**: Low or no risk of heart disease.  \n",
    "\n",
    "\n",
    "###  **2. Dataset Features (Column Descriptions)**  \n",
    "\n",
    "| **Column Name**         | **Description**                              | **Data Type**         |\n",
    "|-------------------------|----------------------------------------------|-----------------------|\n",
    "| **Heart_Risk**          | Heart disease risk (target variable).         | Binary (0 or 1)       |\n",
    "| **Cold_Sweats_Nausea**  | Presence of cold sweats or nausea.            | Binary (0 or 1)       |\n",
    "| **Pain_Arms_Jaw_Back**  | Pain in arms, jaw, or back.                   | Binary (0 or 1)       |\n",
    "| **Swelling**            | Swelling in the body.                         | Binary (0 or 1)       |\n",
    "| **Dizziness**           | Feeling of dizziness.                         | Binary (0 or 1)       |\n",
    "| **Fatigue**             | Chronic fatigue.                              | Binary (0 or 1)       |\n",
    "| **Shortness_of_Breath** | Difficulty in breathing.                      | Binary (0 or 1)       |\n",
    "| **Chest_Pain**          | Presence of chest pain.                       | Binary (0 or 1)       |\n",
    "| **Palpitations**        | Experience of heart palpitations.             | Binary (0 or 1)       |\n",
    "| **Age**                 | Age of the individual.                        | Integer (Numerical)   |\n",
    "| **Sedentary_Lifestyle** | Leading a sedentary (inactive) lifestyle.     | Binary (0 or 1)       |\n",
    "| **Obesity**             | Whether the person is obese.                  | Binary (0 or 1)       |\n",
    "| **Chronic_Stress**      | Experience of long-term stress.               | Binary (0 or 1)       |\n",
    "| **Diabetes**            | Presence of diabetes.                         | Binary (0 or 1)       |\n",
    "| **Family_History**      | Family history of heart disease.              | Binary (0 or 1)       |\n",
    "| **Smoking**             | Whether the person is a smoker.               | Binary (0 or 1)       |\n",
    "| **High_BP**             | High blood pressure (hypertension).           | Binary (0 or 1)       |\n",
    "| **High_Cholesterol**    | High cholesterol levels.                      | Binary (0 or 1)       |\n",
    "| **Gender**              | Gender (1 for male, 0 for female).            | Binary (0 or 1)       |\n",
    "\n"
   ]
  },
  {
   "cell_type": "code",
   "execution_count": 1,
   "metadata": {},
   "outputs": [],
   "source": [
    "import pandas as pd\n",
    "import numpy as np\n",
    "import matplotlib.pyplot as plt\n",
    "import seaborn as sns\n",
    "from sklearn.impute import KNNImputer"
   ]
  },
  {
   "cell_type": "code",
   "execution_count": 2,
   "metadata": {},
   "outputs": [
    {
     "data": {
      "application/vnd.microsoft.datawrangler.viewer.v0+json": {
       "columns": [
        {
         "name": "index",
         "rawType": "int64",
         "type": "integer"
        },
        {
         "name": "Chest_Pain",
         "rawType": "int64",
         "type": "integer"
        },
        {
         "name": "Shortness_of_Breath",
         "rawType": "int64",
         "type": "integer"
        },
        {
         "name": "Fatigue",
         "rawType": "int64",
         "type": "integer"
        },
        {
         "name": "Palpitations",
         "rawType": "int64",
         "type": "integer"
        },
        {
         "name": "Dizziness",
         "rawType": "int64",
         "type": "integer"
        },
        {
         "name": "Swelling",
         "rawType": "int64",
         "type": "integer"
        },
        {
         "name": "Pain_Arms_Jaw_Back",
         "rawType": "int64",
         "type": "integer"
        },
        {
         "name": "Cold_Sweats_Nausea",
         "rawType": "int64",
         "type": "integer"
        },
        {
         "name": "High_BP",
         "rawType": "float64",
         "type": "float"
        },
        {
         "name": "High_Cholesterol",
         "rawType": "float64",
         "type": "float"
        },
        {
         "name": "Diabetes",
         "rawType": "int64",
         "type": "integer"
        },
        {
         "name": "Smoking",
         "rawType": "int64",
         "type": "integer"
        },
        {
         "name": "Obesity",
         "rawType": "int64",
         "type": "integer"
        },
        {
         "name": "Sedentary_Lifestyle",
         "rawType": "int64",
         "type": "integer"
        },
        {
         "name": "Family_History",
         "rawType": "int64",
         "type": "integer"
        },
        {
         "name": "Chronic_Stress",
         "rawType": "int64",
         "type": "integer"
        },
        {
         "name": "Gender",
         "rawType": "int64",
         "type": "integer"
        },
        {
         "name": "Age",
         "rawType": "object",
         "type": "unknown"
        },
        {
         "name": "Heart_Risk",
         "rawType": "int64",
         "type": "integer"
        }
       ],
       "conversionMethod": "pd.DataFrame",
       "ref": "daf8f65b-0017-4e47-8fee-9c91f9d01893",
       "rows": [
        [
         "0",
         "0",
         "0",
         "0",
         "1",
         "0",
         "0",
         "0",
         "0",
         null,
         "0.0",
         "0",
         "1",
         "0",
         "1",
         "0",
         "0",
         "0",
         "48",
         "0"
        ],
        [
         "1",
         "0",
         "1",
         "0",
         "1",
         "0",
         "0",
         "0",
         "0",
         "2.0",
         "0.0",
         "0",
         "1",
         "1",
         "0",
         "0",
         "0",
         "0",
         "46",
         "0"
        ],
        [
         "2",
         "1",
         "0",
         "0",
         "1",
         "0",
         "0",
         "0",
         "0",
         "1.0",
         "1.0",
         "0",
         "1",
         "1",
         "1",
         "0",
         "0",
         "1",
         "66",
         "0"
        ],
        [
         "3",
         "1",
         "1",
         "0",
         "1",
         "0",
         "0",
         "1",
         "1",
         "1.0",
         null,
         "1",
         "1",
         "0",
         "1",
         "1",
         "1",
         "1",
         "0",
         "1"
        ],
        [
         "4",
         "0",
         "0",
         "1",
         "0",
         "1",
         "0",
         "0",
         "0",
         null,
         "0.0",
         "1",
         "0",
         "0",
         "0",
         "0",
         "0",
         "0",
         "69",
         "0"
        ],
        [
         "5",
         "1",
         "1",
         "0",
         "1",
         "1",
         "1",
         "1",
         "0",
         "1.0",
         "1.0",
         "1",
         "0",
         "0",
         "1",
         "1",
         "0",
         "1",
         null,
         "1"
        ],
        [
         "6",
         "1",
         "1",
         "1",
         "1",
         "1",
         "1",
         "1",
         "1",
         "0.0",
         "0.0",
         "1",
         "1",
         "1",
         "1",
         "1",
         "0",
         "1",
         "51",
         "1"
        ],
        [
         "7",
         "1",
         "1",
         "1",
         "1",
         "0",
         "1",
         "0",
         "1",
         null,
         "1.0",
         "1",
         "1",
         "1",
         "1",
         "0",
         "1",
         "0",
         "150",
         "1"
        ],
        [
         "8",
         "1",
         "1",
         "1",
         "1",
         "1",
         "1",
         "1",
         "1",
         "1.0",
         "1.0",
         "0",
         "1",
         "0",
         "0",
         "1",
         "0",
         "1",
         "71",
         "1"
        ],
        [
         "9",
         "0",
         "0",
         "0",
         "0",
         "0",
         "0",
         "1",
         "0",
         "1.0",
         "0.0",
         "0",
         "0",
         "1",
         "0",
         "0",
         "0",
         "1",
         "65",
         "0"
        ],
        [
         "10",
         "0",
         "0",
         "1",
         "1",
         "0",
         "1",
         "1",
         "1",
         "1.0",
         "0.0",
         "0",
         "1",
         "1",
         "1",
         "1",
         "1",
         "0",
         "83",
         "1"
        ],
        [
         "11",
         "1",
         "0",
         "1",
         "1",
         "1",
         "0",
         "1",
         "0",
         "0.0",
         "1.0",
         "1",
         "0",
         "1",
         "1",
         "0",
         "1",
         "1",
         "65",
         "1"
        ],
        [
         "12",
         "1",
         "1",
         "1",
         "0",
         "0",
         "1",
         "1",
         "1",
         "1.0",
         "1.0",
         "0",
         "0",
         "1",
         "0",
         "1",
         "0",
         "0",
         "58",
         "1"
        ],
        [
         "13",
         "1",
         "1",
         "1",
         "1",
         "1",
         "1",
         "1",
         "1",
         "1.0",
         "0.0",
         "0",
         "1",
         "1",
         "1",
         "0",
         "1",
         "1",
         null,
         "1"
        ],
        [
         "14",
         "1",
         "1",
         "1",
         "1",
         "1",
         "1",
         "1",
         "1",
         null,
         "1.0",
         "1",
         "1",
         "1",
         "1",
         "1",
         "1",
         "0",
         "51",
         "1"
        ],
        [
         "15",
         "0",
         "0",
         "0",
         "0",
         "0",
         "0",
         "1",
         "0",
         null,
         "0.0",
         "1",
         "0",
         "1",
         "0",
         "0",
         "0",
         "1",
         "48",
         "0"
        ],
        [
         "16",
         "1",
         "1",
         "1",
         "1",
         "1",
         "0",
         "1",
         "1",
         null,
         null,
         "1",
         "0",
         "1",
         "0",
         "1",
         "0",
         "1",
         "78",
         "1"
        ],
        [
         "17",
         "1",
         "0",
         "1",
         "0",
         "0",
         "1",
         "0",
         "0",
         "0.0",
         "0.0",
         "1",
         "1",
         "0",
         "1",
         "1",
         "1",
         "1",
         "48",
         "1"
        ],
        [
         "18",
         "1",
         "0",
         "0",
         "0",
         "1",
         "0",
         "0",
         "1",
         "1.0",
         null,
         "0",
         "0",
         "0",
         "0",
         "1",
         "0",
         "0",
         "23",
         "0"
        ],
        [
         "19",
         "0",
         "1",
         "0",
         "1",
         "1",
         "1",
         "0",
         "1",
         "0.0",
         "0.0",
         "1",
         "1",
         "1",
         "0",
         "1",
         "0",
         "1",
         "62",
         "1"
        ],
        [
         "20",
         "0",
         "0",
         "0",
         "0",
         "1",
         "0",
         "1",
         "0",
         "1.0",
         "0.0",
         "0",
         "1",
         "0",
         "0",
         "0",
         "1",
         "0",
         "53",
         "0"
        ],
        [
         "21",
         "1",
         "1",
         "1",
         "0",
         "0",
         "1",
         "1",
         "1",
         "1.0",
         "1.0",
         "1",
         "1",
         "1",
         "1",
         "1",
         "1",
         "1",
         "62",
         "1"
        ],
        [
         "22",
         "0",
         "0",
         "0",
         "0",
         "0",
         "0",
         "0",
         "0",
         "0.0",
         "0.0",
         "0",
         "0",
         "0",
         "0",
         "0",
         "0",
         "0",
         "56",
         "0"
        ],
        [
         "23",
         "0",
         "0",
         "0",
         "0",
         "1",
         "1",
         "0",
         "0",
         "1.0",
         null,
         "1",
         "0",
         "0",
         "1",
         "1",
         "0",
         "0",
         "53",
         "0"
        ],
        [
         "24",
         "1",
         "1",
         "1",
         "1",
         "1",
         "1",
         "1",
         "0",
         null,
         "1.0",
         "1",
         "1",
         "0",
         "0",
         "1",
         "1",
         "1",
         "50",
         "1"
        ],
        [
         "25",
         "0",
         "0",
         "0",
         "1",
         "0",
         "0",
         "0",
         "0",
         "1.0",
         null,
         "0",
         "0",
         "0",
         "1",
         "0",
         "0",
         "0",
         "60",
         "0"
        ],
        [
         "26",
         "1",
         "0",
         "0",
         "0",
         "0",
         "0",
         "0",
         "1",
         null,
         "1.0",
         "0",
         "0",
         "1",
         "1",
         "0",
         "0",
         "1",
         "45",
         "0"
        ],
        [
         "27",
         "1",
         "1",
         "1",
         "0",
         "1",
         "1",
         "1",
         "1",
         "1.0",
         "1.0",
         "1",
         "1",
         "1",
         "1",
         "0",
         "1",
         "1",
         "82",
         "1"
        ],
        [
         "28",
         "1",
         "1",
         "1",
         "1",
         "1",
         "1",
         "0",
         "1",
         "1.0",
         "1.0",
         "1",
         "1",
         "1",
         "0",
         "0",
         "0",
         "1",
         "66",
         "1"
        ],
        [
         "29",
         "0",
         "0",
         "0",
         "0",
         "0",
         "1",
         "0",
         "0",
         "2.0",
         "1.0",
         "0",
         "1",
         "0",
         "0",
         "0",
         "0",
         "0",
         null,
         "0"
        ],
        [
         "30",
         "0",
         "0",
         "0",
         "1",
         "0",
         "0",
         "0",
         "0",
         "1.0",
         "0.0",
         "0",
         "0",
         "0",
         "0",
         "1",
         "1",
         "0",
         "50",
         "0"
        ],
        [
         "31",
         "0",
         "0",
         "1",
         "0",
         "1",
         "1",
         "0",
         "1",
         "1.0",
         "0.0",
         "1",
         "0",
         "0",
         "0",
         "0",
         "1",
         "0",
         "59",
         "0"
        ],
        [
         "32",
         "1",
         "0",
         "0",
         "0",
         "0",
         "0",
         "1",
         "1",
         "0.0",
         "0.0",
         "1",
         "1",
         "0",
         "0",
         "0",
         "1",
         "0",
         "43",
         "0"
        ],
        [
         "33",
         "0",
         "1",
         "1",
         "1",
         "0",
         "1",
         "1",
         "1",
         "0.0",
         null,
         "1",
         "0",
         "1",
         "1",
         "0",
         "0",
         "1",
         "58",
         "1"
        ],
        [
         "34",
         "1",
         "1",
         "0",
         "1",
         "1",
         "1",
         "1",
         "1",
         null,
         "0.0",
         "1",
         "1",
         "1",
         "1",
         "0",
         "1",
         "1",
         "47",
         "1"
        ],
        [
         "35",
         "1",
         "0",
         "0",
         "1",
         "0",
         "0",
         "0",
         "0",
         "0.0",
         "0.0",
         "0",
         "0",
         "0",
         "0",
         "0",
         "0",
         "0",
         "22",
         "0"
        ],
        [
         "36",
         "1",
         "1",
         "0",
         "1",
         "0",
         "1",
         "1",
         "1",
         "2.0",
         "1.0",
         "1",
         "0",
         "1",
         "0",
         "0",
         "1",
         "0",
         "-10",
         "1"
        ],
        [
         "37",
         "0",
         "0",
         "0",
         "0",
         "0",
         "0",
         "0",
         "0",
         "0.0",
         null,
         "0",
         "0",
         "0",
         "0",
         "0",
         "1",
         "0",
         "21",
         "0"
        ],
        [
         "38",
         "0",
         "1",
         "1",
         "1",
         "1",
         "0",
         "0",
         "1",
         "0.0",
         "1.0",
         "1",
         "1",
         "1",
         "1",
         "0",
         "0",
         "1",
         "62",
         "1"
        ],
        [
         "39",
         "0",
         "0",
         "0",
         "1",
         "0",
         "0",
         "0",
         "1",
         "1.0",
         null,
         "0",
         "0",
         "0",
         "0",
         "1",
         "1",
         "0",
         "50",
         "0"
        ],
        [
         "40",
         "1",
         "1",
         "1",
         "0",
         "1",
         "1",
         "1",
         "1",
         "0.0",
         "1.0",
         "1",
         "0",
         "1",
         "0",
         "1",
         "1",
         "1",
         "58",
         "1"
        ],
        [
         "41",
         "1",
         "1",
         "1",
         "0",
         "1",
         "1",
         "1",
         "1",
         null,
         "1.0",
         "0",
         "0",
         "1",
         "1",
         "1",
         "0",
         "1",
         "77",
         "1"
        ],
        [
         "42",
         "1",
         "0",
         "1",
         "1",
         "1",
         "1",
         "1",
         "1",
         "1.0",
         "1.0",
         "1",
         "0",
         "0",
         "1",
         "1",
         "1",
         "1",
         "50",
         "1"
        ],
        [
         "43",
         "1",
         "0",
         "0",
         "0",
         "0",
         "1",
         "0",
         "0",
         "1.0",
         "0.0",
         "0",
         "0",
         "0",
         "0",
         "0",
         "1",
         "0",
         "48",
         "0"
        ],
        [
         "44",
         "1",
         "1",
         "1",
         "0",
         "1",
         "1",
         "1",
         "1",
         "0.0",
         "1.0",
         "1",
         "0",
         "0",
         "1",
         "0",
         "1",
         "1",
         "81",
         "1"
        ],
        [
         "45",
         "0",
         "0",
         "1",
         "0",
         "0",
         "0",
         "1",
         "1",
         "0.0",
         "0.0",
         "0",
         "1",
         "0",
         "1",
         "0",
         "0",
         "1",
         "64",
         "0"
        ],
        [
         "46",
         "1",
         "1",
         "1",
         "0",
         "1",
         "1",
         "1",
         "1",
         null,
         "1.0",
         "1",
         "0",
         "1",
         "1",
         "1",
         "0",
         "1",
         "53",
         "1"
        ],
        [
         "47",
         "1",
         "1",
         "1",
         "0",
         "1",
         "1",
         "0",
         "0",
         null,
         "1.0",
         "1",
         "1",
         "1",
         "1",
         "1",
         "0",
         "0",
         "77",
         "1"
        ],
        [
         "48",
         "0",
         "0",
         "0",
         "1",
         "1",
         "0",
         "1",
         "1",
         "1.0",
         "0.0",
         "1",
         "1",
         "1",
         "1",
         "1",
         "1",
         "1",
         "51",
         "1"
        ],
        [
         "49",
         "1",
         "1",
         "1",
         "1",
         "1",
         "1",
         "1",
         "1",
         "1.0",
         "1.0",
         "1",
         "1",
         "1",
         "0",
         "1",
         "1",
         "1",
         "56",
         "1"
        ]
       ],
       "shape": {
        "columns": 19,
        "rows": 72100
       }
      },
      "text/html": [
       "<div>\n",
       "<style scoped>\n",
       "    .dataframe tbody tr th:only-of-type {\n",
       "        vertical-align: middle;\n",
       "    }\n",
       "\n",
       "    .dataframe tbody tr th {\n",
       "        vertical-align: top;\n",
       "    }\n",
       "\n",
       "    .dataframe thead th {\n",
       "        text-align: right;\n",
       "    }\n",
       "</style>\n",
       "<table border=\"1\" class=\"dataframe\">\n",
       "  <thead>\n",
       "    <tr style=\"text-align: right;\">\n",
       "      <th></th>\n",
       "      <th>Chest_Pain</th>\n",
       "      <th>Shortness_of_Breath</th>\n",
       "      <th>Fatigue</th>\n",
       "      <th>Palpitations</th>\n",
       "      <th>Dizziness</th>\n",
       "      <th>Swelling</th>\n",
       "      <th>Pain_Arms_Jaw_Back</th>\n",
       "      <th>Cold_Sweats_Nausea</th>\n",
       "      <th>High_BP</th>\n",
       "      <th>High_Cholesterol</th>\n",
       "      <th>Diabetes</th>\n",
       "      <th>Smoking</th>\n",
       "      <th>Obesity</th>\n",
       "      <th>Sedentary_Lifestyle</th>\n",
       "      <th>Family_History</th>\n",
       "      <th>Chronic_Stress</th>\n",
       "      <th>Gender</th>\n",
       "      <th>Age</th>\n",
       "      <th>Heart_Risk</th>\n",
       "    </tr>\n",
       "  </thead>\n",
       "  <tbody>\n",
       "    <tr>\n",
       "      <th>0</th>\n",
       "      <td>0</td>\n",
       "      <td>0</td>\n",
       "      <td>0</td>\n",
       "      <td>1</td>\n",
       "      <td>0</td>\n",
       "      <td>0</td>\n",
       "      <td>0</td>\n",
       "      <td>0</td>\n",
       "      <td>NaN</td>\n",
       "      <td>0.0</td>\n",
       "      <td>0</td>\n",
       "      <td>1</td>\n",
       "      <td>0</td>\n",
       "      <td>1</td>\n",
       "      <td>0</td>\n",
       "      <td>0</td>\n",
       "      <td>0</td>\n",
       "      <td>48</td>\n",
       "      <td>0</td>\n",
       "    </tr>\n",
       "    <tr>\n",
       "      <th>1</th>\n",
       "      <td>0</td>\n",
       "      <td>1</td>\n",
       "      <td>0</td>\n",
       "      <td>1</td>\n",
       "      <td>0</td>\n",
       "      <td>0</td>\n",
       "      <td>0</td>\n",
       "      <td>0</td>\n",
       "      <td>2.0</td>\n",
       "      <td>0.0</td>\n",
       "      <td>0</td>\n",
       "      <td>1</td>\n",
       "      <td>1</td>\n",
       "      <td>0</td>\n",
       "      <td>0</td>\n",
       "      <td>0</td>\n",
       "      <td>0</td>\n",
       "      <td>46</td>\n",
       "      <td>0</td>\n",
       "    </tr>\n",
       "    <tr>\n",
       "      <th>2</th>\n",
       "      <td>1</td>\n",
       "      <td>0</td>\n",
       "      <td>0</td>\n",
       "      <td>1</td>\n",
       "      <td>0</td>\n",
       "      <td>0</td>\n",
       "      <td>0</td>\n",
       "      <td>0</td>\n",
       "      <td>1.0</td>\n",
       "      <td>1.0</td>\n",
       "      <td>0</td>\n",
       "      <td>1</td>\n",
       "      <td>1</td>\n",
       "      <td>1</td>\n",
       "      <td>0</td>\n",
       "      <td>0</td>\n",
       "      <td>1</td>\n",
       "      <td>66</td>\n",
       "      <td>0</td>\n",
       "    </tr>\n",
       "    <tr>\n",
       "      <th>3</th>\n",
       "      <td>1</td>\n",
       "      <td>1</td>\n",
       "      <td>0</td>\n",
       "      <td>1</td>\n",
       "      <td>0</td>\n",
       "      <td>0</td>\n",
       "      <td>1</td>\n",
       "      <td>1</td>\n",
       "      <td>1.0</td>\n",
       "      <td>NaN</td>\n",
       "      <td>1</td>\n",
       "      <td>1</td>\n",
       "      <td>0</td>\n",
       "      <td>1</td>\n",
       "      <td>1</td>\n",
       "      <td>1</td>\n",
       "      <td>1</td>\n",
       "      <td>0</td>\n",
       "      <td>1</td>\n",
       "    </tr>\n",
       "    <tr>\n",
       "      <th>4</th>\n",
       "      <td>0</td>\n",
       "      <td>0</td>\n",
       "      <td>1</td>\n",
       "      <td>0</td>\n",
       "      <td>1</td>\n",
       "      <td>0</td>\n",
       "      <td>0</td>\n",
       "      <td>0</td>\n",
       "      <td>NaN</td>\n",
       "      <td>0.0</td>\n",
       "      <td>1</td>\n",
       "      <td>0</td>\n",
       "      <td>0</td>\n",
       "      <td>0</td>\n",
       "      <td>0</td>\n",
       "      <td>0</td>\n",
       "      <td>0</td>\n",
       "      <td>69</td>\n",
       "      <td>0</td>\n",
       "    </tr>\n",
       "    <tr>\n",
       "      <th>...</th>\n",
       "      <td>...</td>\n",
       "      <td>...</td>\n",
       "      <td>...</td>\n",
       "      <td>...</td>\n",
       "      <td>...</td>\n",
       "      <td>...</td>\n",
       "      <td>...</td>\n",
       "      <td>...</td>\n",
       "      <td>...</td>\n",
       "      <td>...</td>\n",
       "      <td>...</td>\n",
       "      <td>...</td>\n",
       "      <td>...</td>\n",
       "      <td>...</td>\n",
       "      <td>...</td>\n",
       "      <td>...</td>\n",
       "      <td>...</td>\n",
       "      <td>...</td>\n",
       "      <td>...</td>\n",
       "    </tr>\n",
       "    <tr>\n",
       "      <th>72095</th>\n",
       "      <td>1</td>\n",
       "      <td>1</td>\n",
       "      <td>1</td>\n",
       "      <td>1</td>\n",
       "      <td>1</td>\n",
       "      <td>1</td>\n",
       "      <td>1</td>\n",
       "      <td>1</td>\n",
       "      <td>0.0</td>\n",
       "      <td>1.0</td>\n",
       "      <td>0</td>\n",
       "      <td>1</td>\n",
       "      <td>1</td>\n",
       "      <td>0</td>\n",
       "      <td>0</td>\n",
       "      <td>0</td>\n",
       "      <td>1</td>\n",
       "      <td>48</td>\n",
       "      <td>1</td>\n",
       "    </tr>\n",
       "    <tr>\n",
       "      <th>72096</th>\n",
       "      <td>1</td>\n",
       "      <td>1</td>\n",
       "      <td>1</td>\n",
       "      <td>1</td>\n",
       "      <td>0</td>\n",
       "      <td>1</td>\n",
       "      <td>1</td>\n",
       "      <td>1</td>\n",
       "      <td>1.0</td>\n",
       "      <td>0.0</td>\n",
       "      <td>0</td>\n",
       "      <td>0</td>\n",
       "      <td>1</td>\n",
       "      <td>1</td>\n",
       "      <td>1</td>\n",
       "      <td>1</td>\n",
       "      <td>0</td>\n",
       "      <td>47</td>\n",
       "      <td>1</td>\n",
       "    </tr>\n",
       "    <tr>\n",
       "      <th>72097</th>\n",
       "      <td>1</td>\n",
       "      <td>0</td>\n",
       "      <td>0</td>\n",
       "      <td>0</td>\n",
       "      <td>0</td>\n",
       "      <td>0</td>\n",
       "      <td>0</td>\n",
       "      <td>0</td>\n",
       "      <td>0.0</td>\n",
       "      <td>0.0</td>\n",
       "      <td>0</td>\n",
       "      <td>1</td>\n",
       "      <td>0</td>\n",
       "      <td>0</td>\n",
       "      <td>0</td>\n",
       "      <td>0</td>\n",
       "      <td>0</td>\n",
       "      <td>25</td>\n",
       "      <td>0</td>\n",
       "    </tr>\n",
       "    <tr>\n",
       "      <th>72098</th>\n",
       "      <td>0</td>\n",
       "      <td>1</td>\n",
       "      <td>0</td>\n",
       "      <td>0</td>\n",
       "      <td>1</td>\n",
       "      <td>0</td>\n",
       "      <td>0</td>\n",
       "      <td>0</td>\n",
       "      <td>0.0</td>\n",
       "      <td>1.0</td>\n",
       "      <td>0</td>\n",
       "      <td>1</td>\n",
       "      <td>1</td>\n",
       "      <td>1</td>\n",
       "      <td>1</td>\n",
       "      <td>1</td>\n",
       "      <td>0</td>\n",
       "      <td>47</td>\n",
       "      <td>0</td>\n",
       "    </tr>\n",
       "    <tr>\n",
       "      <th>72099</th>\n",
       "      <td>1</td>\n",
       "      <td>1</td>\n",
       "      <td>1</td>\n",
       "      <td>0</td>\n",
       "      <td>1</td>\n",
       "      <td>1</td>\n",
       "      <td>1</td>\n",
       "      <td>1</td>\n",
       "      <td>1.0</td>\n",
       "      <td>0.0</td>\n",
       "      <td>1</td>\n",
       "      <td>0</td>\n",
       "      <td>1</td>\n",
       "      <td>1</td>\n",
       "      <td>1</td>\n",
       "      <td>0</td>\n",
       "      <td>1</td>\n",
       "      <td>46</td>\n",
       "      <td>1</td>\n",
       "    </tr>\n",
       "  </tbody>\n",
       "</table>\n",
       "<p>72100 rows × 19 columns</p>\n",
       "</div>"
      ],
      "text/plain": [
       "       Chest_Pain  Shortness_of_Breath  Fatigue  Palpitations  Dizziness  \\\n",
       "0               0                    0        0             1          0   \n",
       "1               0                    1        0             1          0   \n",
       "2               1                    0        0             1          0   \n",
       "3               1                    1        0             1          0   \n",
       "4               0                    0        1             0          1   \n",
       "...           ...                  ...      ...           ...        ...   \n",
       "72095           1                    1        1             1          1   \n",
       "72096           1                    1        1             1          0   \n",
       "72097           1                    0        0             0          0   \n",
       "72098           0                    1        0             0          1   \n",
       "72099           1                    1        1             0          1   \n",
       "\n",
       "       Swelling  Pain_Arms_Jaw_Back  Cold_Sweats_Nausea  High_BP  \\\n",
       "0             0                   0                   0      NaN   \n",
       "1             0                   0                   0      2.0   \n",
       "2             0                   0                   0      1.0   \n",
       "3             0                   1                   1      1.0   \n",
       "4             0                   0                   0      NaN   \n",
       "...         ...                 ...                 ...      ...   \n",
       "72095         1                   1                   1      0.0   \n",
       "72096         1                   1                   1      1.0   \n",
       "72097         0                   0                   0      0.0   \n",
       "72098         0                   0                   0      0.0   \n",
       "72099         1                   1                   1      1.0   \n",
       "\n",
       "       High_Cholesterol  Diabetes  Smoking  Obesity  Sedentary_Lifestyle  \\\n",
       "0                   0.0         0        1        0                    1   \n",
       "1                   0.0         0        1        1                    0   \n",
       "2                   1.0         0        1        1                    1   \n",
       "3                   NaN         1        1        0                    1   \n",
       "4                   0.0         1        0        0                    0   \n",
       "...                 ...       ...      ...      ...                  ...   \n",
       "72095               1.0         0        1        1                    0   \n",
       "72096               0.0         0        0        1                    1   \n",
       "72097               0.0         0        1        0                    0   \n",
       "72098               1.0         0        1        1                    1   \n",
       "72099               0.0         1        0        1                    1   \n",
       "\n",
       "       Family_History  Chronic_Stress  Gender Age  Heart_Risk  \n",
       "0                   0               0       0  48           0  \n",
       "1                   0               0       0  46           0  \n",
       "2                   0               0       1  66           0  \n",
       "3                   1               1       1   0           1  \n",
       "4                   0               0       0  69           0  \n",
       "...               ...             ...     ...  ..         ...  \n",
       "72095               0               0       1  48           1  \n",
       "72096               1               1       0  47           1  \n",
       "72097               0               0       0  25           0  \n",
       "72098               1               1       0  47           0  \n",
       "72099               1               0       1  46           1  \n",
       "\n",
       "[72100 rows x 19 columns]"
      ]
     },
     "execution_count": 2,
     "metadata": {},
     "output_type": "execute_result"
    }
   ],
   "source": [
    "df=pd.read_csv(\"heart_disease_risk_dataset_corrupted.csv\")\n",
    "df"
   ]
  },
  {
   "cell_type": "markdown",
   "metadata": {},
   "source": [
    "### handling duplicate rows"
   ]
  },
  {
   "cell_type": "code",
   "execution_count": 3,
   "metadata": {},
   "outputs": [
    {
     "data": {
      "text/plain": [
       "5843"
      ]
     },
     "execution_count": 3,
     "metadata": {},
     "output_type": "execute_result"
    }
   ],
   "source": [
    "df.duplicated().sum()"
   ]
  },
  {
   "cell_type": "code",
   "execution_count": 4,
   "metadata": {},
   "outputs": [],
   "source": [
    "df.drop_duplicates(inplace=True)"
   ]
  },
  {
   "cell_type": "code",
   "execution_count": 5,
   "metadata": {},
   "outputs": [
    {
     "data": {
      "text/plain": [
       "0"
      ]
     },
     "execution_count": 5,
     "metadata": {},
     "output_type": "execute_result"
    }
   ],
   "source": [
    "df.duplicated().sum()"
   ]
  },
  {
   "cell_type": "code",
   "execution_count": 6,
   "metadata": {},
   "outputs": [
    {
     "name": "stdout",
     "output_type": "stream",
     "text": [
      "<class 'pandas.core.frame.DataFrame'>\n",
      "Index: 66257 entries, 0 to 72099\n",
      "Data columns (total 19 columns):\n",
      " #   Column               Non-Null Count  Dtype  \n",
      "---  ------               --------------  -----  \n",
      " 0   Chest_Pain           66257 non-null  int64  \n",
      " 1   Shortness_of_Breath  66257 non-null  int64  \n",
      " 2   Fatigue              66257 non-null  int64  \n",
      " 3   Palpitations         66257 non-null  int64  \n",
      " 4   Dizziness            66257 non-null  int64  \n",
      " 5   Swelling             66257 non-null  int64  \n",
      " 6   Pain_Arms_Jaw_Back   66257 non-null  int64  \n",
      " 7   Cold_Sweats_Nausea   66257 non-null  int64  \n",
      " 8   High_BP              56315 non-null  float64\n",
      " 9   High_Cholesterol     56057 non-null  float64\n",
      " 10  Diabetes             66257 non-null  int64  \n",
      " 11  Smoking              66257 non-null  int64  \n",
      " 12  Obesity              66257 non-null  int64  \n",
      " 13  Sedentary_Lifestyle  66257 non-null  int64  \n",
      " 14  Family_History       66257 non-null  int64  \n",
      " 15  Chronic_Stress       66257 non-null  int64  \n",
      " 16  Gender               66257 non-null  int64  \n",
      " 17  Age                  58147 non-null  object \n",
      " 18  Heart_Risk           66257 non-null  int64  \n",
      "dtypes: float64(2), int64(16), object(1)\n",
      "memory usage: 10.1+ MB\n"
     ]
    }
   ],
   "source": [
    "df.info()"
   ]
  },
  {
   "cell_type": "markdown",
   "metadata": {},
   "source": [
    "### handling missing values"
   ]
  },
  {
   "cell_type": "code",
   "execution_count": 7,
   "metadata": {},
   "outputs": [
    {
     "data": {
      "text/plain": [
       "Chest_Pain                 0\n",
       "Shortness_of_Breath        0\n",
       "Fatigue                    0\n",
       "Palpitations               0\n",
       "Dizziness                  0\n",
       "Swelling                   0\n",
       "Pain_Arms_Jaw_Back         0\n",
       "Cold_Sweats_Nausea         0\n",
       "High_BP                 9942\n",
       "High_Cholesterol       10200\n",
       "Diabetes                   0\n",
       "Smoking                    0\n",
       "Obesity                    0\n",
       "Sedentary_Lifestyle        0\n",
       "Family_History             0\n",
       "Chronic_Stress             0\n",
       "Gender                     0\n",
       "Age                     8110\n",
       "Heart_Risk                 0\n",
       "dtype: int64"
      ]
     },
     "execution_count": 7,
     "metadata": {},
     "output_type": "execute_result"
    }
   ],
   "source": [
    "df.isnull().sum()"
   ]
  },
  {
   "cell_type": "markdown",
   "metadata": {},
   "source": [
    "Missing Values in Key Columns\n",
    "\n",
    "| **Column**            | **Description**                                | **Data Type**           |\n",
    "|-----------------------|-----------------------------------------------|-------------------------|\n",
    "| `High_BP`             | Does the patient have **high blood pressure**? | **Binary (Yes/No)**     |\n",
    "| `High_Cholesterol`    | Does the patient have **high cholesterol levels**? | **Binary (Yes/No)**     |\n",
    "| `Age`                 | **Patient's age** (stored as `object` instead of numeric). | **Object (should be converted to numeric)** |\n",
    "\n",
    "\n"
   ]
  },
  {
   "cell_type": "code",
   "execution_count": 8,
   "metadata": {},
   "outputs": [],
   "source": [
    "df['Age'] = pd.to_numeric(df['Age'], errors='coerce')\n"
   ]
  },
  {
   "cell_type": "code",
   "execution_count": 9,
   "metadata": {},
   "outputs": [
    {
     "data": {
      "image/png": "[encoded data removed]",
      "text/plain": [
       "<Figure size 800x500 with 1 Axes>"
      ]
     },
     "metadata": {},
     "output_type": "display_data"
    }
   ],
   "source": [
    "plt.figure(figsize=(8, 5))\n",
    "sns.histplot(df['Age'], bins=30, kde=True, color='royalblue')\n",
    "plt.title('Age Distribution')\n",
    "plt.xlabel('Age')\n",
    "plt.ylabel('Frequency')\n",
    "plt.grid(axis='y', linestyle='--', linewidth=0.5)\n",
    "plt.show()\n"
   ]
  },
  {
   "cell_type": "code",
   "execution_count": 10,
   "metadata": {},
   "outputs": [
    {
     "data": {
      "text/plain": [
       "10315"
      ]
     },
     "execution_count": 10,
     "metadata": {},
     "output_type": "execute_result"
    }
   ],
   "source": [
    "df['Age'].isnull().sum()"
   ]
  },
  {
   "cell_type": "code",
   "execution_count": 11,
   "metadata": {},
   "outputs": [],
   "source": [
    "df['Age']=df['Age'].fillna(df['Age'].median())"
   ]
  },
  {
   "cell_type": "code",
   "execution_count": 12,
   "metadata": {},
   "outputs": [
    {
     "data": {
      "text/plain": [
       "0"
      ]
     },
     "execution_count": 12,
     "metadata": {},
     "output_type": "execute_result"
    }
   ],
   "source": [
    "df['Age'].isnull().sum()"
   ]
  },
  {
   "cell_type": "code",
   "execution_count": 13,
   "metadata": {},
   "outputs": [
    {
     "data": {
      "text/plain": [
       "High_BP\n",
       "0.0    27124\n",
       "1.0    26749\n",
       "2.0     2442\n",
       "Name: count, dtype: int64"
      ]
     },
     "execution_count": 13,
     "metadata": {},
     "output_type": "execute_result"
    }
   ],
   "source": [
    "df['High_BP'].value_counts()"
   ]
  },
  {
   "cell_type": "code",
   "execution_count": 14,
   "metadata": {},
   "outputs": [],
   "source": [
    "df = df[df['High_BP'] != 2.0]"
   ]
  },
  {
   "cell_type": "code",
   "execution_count": 15,
   "metadata": {},
   "outputs": [
    {
     "data": {
      "text/plain": [
       "High_BP\n",
       "0.0    27124\n",
       "1.0    26749\n",
       "Name: count, dtype: int64"
      ]
     },
     "execution_count": 15,
     "metadata": {},
     "output_type": "execute_result"
    }
   ],
   "source": [
    "df['High_BP'].value_counts()"
   ]
  },
  {
   "cell_type": "code",
   "execution_count": 16,
   "metadata": {},
   "outputs": [
    {
     "name": "stdout",
     "output_type": "stream",
     "text": [
      "High_BP\n",
      "0.0    37066\n",
      "1.0    26749\n",
      "Name: count, dtype: int64\n"
     ]
    }
   ],
   "source": [
    "imputer = KNNImputer(n_neighbors=15)\n",
    "df.loc[:, 'High_BP'] = imputer.fit_transform(df[['High_BP']]).round().astype(int)\n",
    "\n",
    "print(df['High_BP'].value_counts())\n",
    "\n"
   ]
  },
  {
   "cell_type": "code",
   "execution_count": 17,
   "metadata": {},
   "outputs": [
    {
     "data": {
      "text/plain": [
       "High_Cholesterol\n",
       "0.0    27199\n",
       "1.0    26804\n",
       "Name: count, dtype: int64"
      ]
     },
     "execution_count": 17,
     "metadata": {},
     "output_type": "execute_result"
    }
   ],
   "source": [
    "df['High_Cholesterol'].value_counts()"
   ]
  },
  {
   "cell_type": "code",
   "execution_count": 18,
   "metadata": {},
   "outputs": [
    {
     "name": "stdout",
     "output_type": "stream",
     "text": [
      "High_Cholesterol\n",
      "0.0    37011\n",
      "1.0    26804\n",
      "Name: count, dtype: int64\n"
     ]
    }
   ],
   "source": [
    "imputer = KNNImputer(n_neighbors=15)\n",
    "df.loc[:, 'High_Cholesterol'] = imputer.fit_transform(df[['High_Cholesterol']]).round().astype(int)\n",
    "\n",
    "print(df['High_Cholesterol'].value_counts())"
   ]
  },
  {
   "cell_type": "code",
   "execution_count": 19,
   "metadata": {},
   "outputs": [
    {
     "name": "stdout",
     "output_type": "stream",
     "text": [
      "<class 'pandas.core.frame.DataFrame'>\n",
      "Index: 63815 entries, 0 to 72099\n",
      "Data columns (total 19 columns):\n",
      " #   Column               Non-Null Count  Dtype  \n",
      "---  ------               --------------  -----  \n",
      " 0   Chest_Pain           63815 non-null  int64  \n",
      " 1   Shortness_of_Breath  63815 non-null  int64  \n",
      " 2   Fatigue              63815 non-null  int64  \n",
      " 3   Palpitations         63815 non-null  int64  \n",
      " 4   Dizziness            63815 non-null  int64  \n",
      " 5   Swelling             63815 non-null  int64  \n",
      " 6   Pain_Arms_Jaw_Back   63815 non-null  int64  \n",
      " 7   Cold_Sweats_Nausea   63815 non-null  int64  \n",
      " 8   High_BP              63815 non-null  float64\n",
      " 9   High_Cholesterol     63815 non-null  float64\n",
      " 10  Diabetes             63815 non-null  int64  \n",
      " 11  Smoking              63815 non-null  int64  \n",
      " 12  Obesity              63815 non-null  int64  \n",
      " 13  Sedentary_Lifestyle  63815 non-null  int64  \n",
      " 14  Family_History       63815 non-null  int64  \n",
      " 15  Chronic_Stress       63815 non-null  int64  \n",
      " 16  Gender               63815 non-null  int64  \n",
      " 17  Age                  63815 non-null  float64\n",
      " 18  Heart_Risk           63815 non-null  int64  \n",
      "dtypes: float64(3), int64(16)\n",
      "memory usage: 9.7 MB\n"
     ]
    }
   ],
   "source": [
    "df.info()"
   ]
  },
  {
   "cell_type": "markdown",
   "metadata": {},
   "source": [
    "### Outlier Detection"
   ]
  },
  {
   "cell_type": "code",
   "execution_count": 20,
   "metadata": {},
   "outputs": [
    {
     "data": {
      "application/vnd.microsoft.datawrangler.viewer.v0+json": {
       "columns": [
        {
         "name": "index",
         "rawType": "object",
         "type": "string"
        },
        {
         "name": "Chest_Pain",
         "rawType": "float64",
         "type": "float"
        },
        {
         "name": "Shortness_of_Breath",
         "rawType": "float64",
         "type": "float"
        },
        {
         "name": "Fatigue",
         "rawType": "float64",
         "type": "float"
        },
        {
         "name": "Palpitations",
         "rawType": "float64",
         "type": "float"
        },
        {
         "name": "Dizziness",
         "rawType": "float64",
         "type": "float"
        },
        {
         "name": "Swelling",
         "rawType": "float64",
         "type": "float"
        },
        {
         "name": "Pain_Arms_Jaw_Back",
         "rawType": "float64",
         "type": "float"
        },
        {
         "name": "Cold_Sweats_Nausea",
         "rawType": "float64",
         "type": "float"
        },
        {
         "name": "High_BP",
         "rawType": "float64",
         "type": "float"
        },
        {
         "name": "High_Cholesterol",
         "rawType": "float64",
         "type": "float"
        },
        {
         "name": "Diabetes",
         "rawType": "float64",
         "type": "float"
        },
        {
         "name": "Smoking",
         "rawType": "float64",
         "type": "float"
        },
        {
         "name": "Obesity",
         "rawType": "float64",
         "type": "float"
        },
        {
         "name": "Sedentary_Lifestyle",
         "rawType": "float64",
         "type": "float"
        },
        {
         "name": "Family_History",
         "rawType": "float64",
         "type": "float"
        },
        {
         "name": "Chronic_Stress",
         "rawType": "float64",
         "type": "float"
        },
        {
         "name": "Gender",
         "rawType": "float64",
         "type": "float"
        },
        {
         "name": "Age",
         "rawType": "float64",
         "type": "float"
        },
        {
         "name": "Heart_Risk",
         "rawType": "float64",
         "type": "float"
        }
       ],
       "conversionMethod": "pd.DataFrame",
       "ref": "c8fcdda2-34e3-4c52-a2c8-55793dbf0e15",
       "rows": [
        [
         "count",
         "63815.0",
         "63815.0",
         "63815.0",
         "63815.0",
         "63815.0",
         "63815.0",
         "63815.0",
         "63815.0",
         "63815.0",
         "63815.0",
         "63815.0",
         "63815.0",
         "63815.0",
         "63815.0",
         "63815.0",
         "63815.0",
         "63815.0",
         "63815.0",
         "63815.0"
        ],
        [
         "mean",
         "0.4965760401159602",
         "0.4981430698111729",
         "0.4966387213037687",
         "0.49654469952205593",
         "0.4993496826764867",
         "0.4967327430854815",
         "0.4994123638642952",
         "0.500242889602758",
         "0.4191647731724516",
         "0.4200266395048186",
         "0.5002585598997101",
         "3.5036276737444174",
         "0.49776698268432185",
         "0.502217347018726",
         "0.49624696387996553",
         "0.4989422549557314",
         "0.5477082190707514",
         "55.4732899788451",
         "0.49728120347880594"
        ],
        [
         "std",
         "0.49999219388969207",
         "0.500000469391647",
         "0.49999261920962995",
         "0.4999919782827955",
         "0.5000034947041669",
         "0.4999932424549361",
         "0.5000035723012279",
         "0.5000038586244558",
         "0.49342626738228096",
         "0.49356669156462124",
         "0.5000038507665308",
         "16.61087947095879",
         "0.49999893119001504",
         "0.49999900092978267",
         "0.49998983203139863",
         "0.500002798785684",
         "0.49772262134788364",
         "23.44307857553767",
         "0.4999965256531994"
        ],
        [
         "min",
         "0.0",
         "0.0",
         "0.0",
         "0.0",
         "0.0",
         "0.0",
         "0.0",
         "0.0",
         "0.0",
         "0.0",
         "0.0",
         "0.0",
         "0.0",
         "0.0",
         "0.0",
         "0.0",
         "0.0",
         "-10.0",
         "0.0"
        ],
        [
         "25%",
         "0.0",
         "0.0",
         "0.0",
         "0.0",
         "0.0",
         "0.0",
         "0.0",
         "0.0",
         "0.0",
         "0.0",
         "0.0",
         "0.0",
         "0.0",
         "0.0",
         "0.0",
         "0.0",
         "0.0",
         "46.0",
         "0.0"
        ],
        [
         "50%",
         "0.0",
         "0.0",
         "0.0",
         "0.0",
         "0.0",
         "0.0",
         "0.0",
         "1.0",
         "0.0",
         "0.0",
         "1.0",
         "1.0",
         "0.0",
         "1.0",
         "0.0",
         "0.0",
         "1.0",
         "56.0",
         "0.0"
        ],
        [
         "75%",
         "1.0",
         "1.0",
         "1.0",
         "1.0",
         "1.0",
         "1.0",
         "1.0",
         "1.0",
         "1.0",
         "1.0",
         "1.0",
         "1.0",
         "1.0",
         "1.0",
         "1.0",
         "1.0",
         "1.0",
         "65.0",
         "1.0"
        ],
        [
         "max",
         "1.0",
         "1.0",
         "1.0",
         "1.0",
         "1.0",
         "1.0",
         "1.0",
         "1.0",
         "1.0",
         "1.0",
         "1.0",
         "99.0",
         "1.0",
         "1.0",
         "1.0",
         "1.0",
         "1.0",
         "200.0",
         "1.0"
        ]
       ],
       "shape": {
        "columns": 19,
        "rows": 8
       }
      },
      "text/html": [
       "<div>\n",
       "<style scoped>\n",
       "    .dataframe tbody tr th:only-of-type {\n",
       "        vertical-align: middle;\n",
       "    }\n",
       "\n",
       "    .dataframe tbody tr th {\n",
       "        vertical-align: top;\n",
       "    }\n",
       "\n",
       "    .dataframe thead th {\n",
       "        text-align: right;\n",
       "    }\n",
       "</style>\n",
       "<table border=\"1\" class=\"dataframe\">\n",
       "  <thead>\n",
       "    <tr style=\"text-align: right;\">\n",
       "      <th></th>\n",
       "      <th>Chest_Pain</th>\n",
       "      <th>Shortness_of_Breath</th>\n",
       "      <th>Fatigue</th>\n",
       "      <th>Palpitations</th>\n",
       "      <th>Dizziness</th>\n",
       "      <th>Swelling</th>\n",
       "      <th>Pain_Arms_Jaw_Back</th>\n",
       "      <th>Cold_Sweats_Nausea</th>\n",
       "      <th>High_BP</th>\n",
       "      <th>High_Cholesterol</th>\n",
       "      <th>Diabetes</th>\n",
       "      <th>Smoking</th>\n",
       "      <th>Obesity</th>\n",
       "      <th>Sedentary_Lifestyle</th>\n",
       "      <th>Family_History</th>\n",
       "      <th>Chronic_Stress</th>\n",
       "      <th>Gender</th>\n",
       "      <th>Age</th>\n",
       "      <th>Heart_Risk</th>\n",
       "    </tr>\n",
       "  </thead>\n",
       "  <tbody>\n",
       "    <tr>\n",
       "      <th>count</th>\n",
       "      <td>63815.000000</td>\n",
       "      <td>63815.000000</td>\n",
       "      <td>63815.000000</td>\n",
       "      <td>63815.000000</td>\n",
       "      <td>63815.000000</td>\n",
       "      <td>63815.000000</td>\n",
       "      <td>63815.000000</td>\n",
       "      <td>63815.000000</td>\n",
       "      <td>63815.000000</td>\n",
       "      <td>63815.000000</td>\n",
       "      <td>63815.000000</td>\n",
       "      <td>63815.000000</td>\n",
       "      <td>63815.000000</td>\n",
       "      <td>63815.000000</td>\n",
       "      <td>63815.000000</td>\n",
       "      <td>63815.000000</td>\n",
       "      <td>63815.000000</td>\n",
       "      <td>63815.000000</td>\n",
       "      <td>63815.000000</td>\n",
       "    </tr>\n",
       "    <tr>\n",
       "      <th>mean</th>\n",
       "      <td>0.496576</td>\n",
       "      <td>0.498143</td>\n",
       "      <td>0.496639</td>\n",
       "      <td>0.496545</td>\n",
       "      <td>0.499350</td>\n",
       "      <td>0.496733</td>\n",
       "      <td>0.499412</td>\n",
       "      <td>0.500243</td>\n",
       "      <td>0.419165</td>\n",
       "      <td>0.420027</td>\n",
       "      <td>0.500259</td>\n",
       "      <td>3.503628</td>\n",
       "      <td>0.497767</td>\n",
       "      <td>0.502217</td>\n",
       "      <td>0.496247</td>\n",
       "      <td>0.498942</td>\n",
       "      <td>0.547708</td>\n",
       "      <td>55.473290</td>\n",
       "      <td>0.497281</td>\n",
       "    </tr>\n",
       "    <tr>\n",
       "      <th>std</th>\n",
       "      <td>0.499992</td>\n",
       "      <td>0.500000</td>\n",
       "      <td>0.499993</td>\n",
       "      <td>0.499992</td>\n",
       "      <td>0.500003</td>\n",
       "      <td>0.499993</td>\n",
       "      <td>0.500004</td>\n",
       "      <td>0.500004</td>\n",
       "      <td>0.493426</td>\n",
       "      <td>0.493567</td>\n",
       "      <td>0.500004</td>\n",
       "      <td>16.610879</td>\n",
       "      <td>0.499999</td>\n",
       "      <td>0.499999</td>\n",
       "      <td>0.499990</td>\n",
       "      <td>0.500003</td>\n",
       "      <td>0.497723</td>\n",
       "      <td>23.443079</td>\n",
       "      <td>0.499997</td>\n",
       "    </tr>\n",
       "    <tr>\n",
       "      <th>min</th>\n",
       "      <td>0.000000</td>\n",
       "      <td>0.000000</td>\n",
       "      <td>0.000000</td>\n",
       "      <td>0.000000</td>\n",
       "      <td>0.000000</td>\n",
       "      <td>0.000000</td>\n",
       "      <td>0.000000</td>\n",
       "      <td>0.000000</td>\n",
       "      <td>0.000000</td>\n",
       "      <td>0.000000</td>\n",
       "      <td>0.000000</td>\n",
       "      <td>0.000000</td>\n",
       "      <td>0.000000</td>\n",
       "      <td>0.000000</td>\n",
       "      <td>0.000000</td>\n",
       "      <td>0.000000</td>\n",
       "      <td>0.000000</td>\n",
       "      <td>-10.000000</td>\n",
       "      <td>0.000000</td>\n",
       "    </tr>\n",
       "    <tr>\n",
       "      <th>25%</th>\n",
       "      <td>0.000000</td>\n",
       "      <td>0.000000</td>\n",
       "      <td>0.000000</td>\n",
       "      <td>0.000000</td>\n",
       "      <td>0.000000</td>\n",
       "      <td>0.000000</td>\n",
       "      <td>0.000000</td>\n",
       "      <td>0.000000</td>\n",
       "      <td>0.000000</td>\n",
       "      <td>0.000000</td>\n",
       "      <td>0.000000</td>\n",
       "      <td>0.000000</td>\n",
       "      <td>0.000000</td>\n",
       "      <td>0.000000</td>\n",
       "      <td>0.000000</td>\n",
       "      <td>0.000000</td>\n",
       "      <td>0.000000</td>\n",
       "      <td>46.000000</td>\n",
       "      <td>0.000000</td>\n",
       "    </tr>\n",
       "    <tr>\n",
       "      <th>50%</th>\n",
       "      <td>0.000000</td>\n",
       "      <td>0.000000</td>\n",
       "      <td>0.000000</td>\n",
       "      <td>0.000000</td>\n",
       "      <td>0.000000</td>\n",
       "      <td>0.000000</td>\n",
       "      <td>0.000000</td>\n",
       "      <td>1.000000</td>\n",
       "      <td>0.000000</td>\n",
       "      <td>0.000000</td>\n",
       "      <td>1.000000</td>\n",
       "      <td>1.000000</td>\n",
       "      <td>0.000000</td>\n",
       "      <td>1.000000</td>\n",
       "      <td>0.000000</td>\n",
       "      <td>0.000000</td>\n",
       "      <td>1.000000</td>\n",
       "      <td>56.000000</td>\n",
       "      <td>0.000000</td>\n",
       "    </tr>\n",
       "    <tr>\n",
       "      <th>75%</th>\n",
       "      <td>1.000000</td>\n",
       "      <td>1.000000</td>\n",
       "      <td>1.000000</td>\n",
       "      <td>1.000000</td>\n",
       "      <td>1.000000</td>\n",
       "      <td>1.000000</td>\n",
       "      <td>1.000000</td>\n",
       "      <td>1.000000</td>\n",
       "      <td>1.000000</td>\n",
       "      <td>1.000000</td>\n",
       "      <td>1.000000</td>\n",
       "      <td>1.000000</td>\n",
       "      <td>1.000000</td>\n",
       "      <td>1.000000</td>\n",
       "      <td>1.000000</td>\n",
       "      <td>1.000000</td>\n",
       "      <td>1.000000</td>\n",
       "      <td>65.000000</td>\n",
       "      <td>1.000000</td>\n",
       "    </tr>\n",
       "    <tr>\n",
       "      <th>max</th>\n",
       "      <td>1.000000</td>\n",
       "      <td>1.000000</td>\n",
       "      <td>1.000000</td>\n",
       "      <td>1.000000</td>\n",
       "      <td>1.000000</td>\n",
       "      <td>1.000000</td>\n",
       "      <td>1.000000</td>\n",
       "      <td>1.000000</td>\n",
       "      <td>1.000000</td>\n",
       "      <td>1.000000</td>\n",
       "      <td>1.000000</td>\n",
       "      <td>99.000000</td>\n",
       "      <td>1.000000</td>\n",
       "      <td>1.000000</td>\n",
       "      <td>1.000000</td>\n",
       "      <td>1.000000</td>\n",
       "      <td>1.000000</td>\n",
       "      <td>200.000000</td>\n",
       "      <td>1.000000</td>\n",
       "    </tr>\n",
       "  </tbody>\n",
       "</table>\n",
       "</div>"
      ],
      "text/plain": [
       "         Chest_Pain  Shortness_of_Breath       Fatigue  Palpitations  \\\n",
       "count  63815.000000         63815.000000  63815.000000  63815.000000   \n",
       "mean       0.496576             0.498143      0.496639      0.496545   \n",
       "std        0.499992             0.500000      0.499993      0.499992   \n",
       "min        0.000000             0.000000      0.000000      0.000000   \n",
       "25%        0.000000             0.000000      0.000000      0.000000   \n",
       "50%        0.000000             0.000000      0.000000      0.000000   \n",
       "75%        1.000000             1.000000      1.000000      1.000000   \n",
       "max        1.000000             1.000000      1.000000      1.000000   \n",
       "\n",
       "          Dizziness      Swelling  Pain_Arms_Jaw_Back  Cold_Sweats_Nausea  \\\n",
       "count  63815.000000  63815.000000        63815.000000        63815.000000   \n",
       "mean       0.499350      0.496733            0.499412            0.500243   \n",
       "std        0.500003      0.499993            0.500004            0.500004   \n",
       "min        0.000000      0.000000            0.000000            0.000000   \n",
       "25%        0.000000      0.000000            0.000000            0.000000   \n",
       "50%        0.000000      0.000000            0.000000            1.000000   \n",
       "75%        1.000000      1.000000            1.000000            1.000000   \n",
       "max        1.000000      1.000000            1.000000            1.000000   \n",
       "\n",
       "            High_BP  High_Cholesterol      Diabetes       Smoking  \\\n",
       "count  63815.000000      63815.000000  63815.000000  63815.000000   \n",
       "mean       0.419165          0.420027      0.500259      3.503628   \n",
       "std        0.493426          0.493567      0.500004     16.610879   \n",
       "min        0.000000          0.000000      0.000000      0.000000   \n",
       "25%        0.000000          0.000000      0.000000      0.000000   \n",
       "50%        0.000000          0.000000      1.000000      1.000000   \n",
       "75%        1.000000          1.000000      1.000000      1.000000   \n",
       "max        1.000000          1.000000      1.000000     99.000000   \n",
       "\n",
       "            Obesity  Sedentary_Lifestyle  Family_History  Chronic_Stress  \\\n",
       "count  63815.000000         63815.000000    63815.000000    63815.000000   \n",
       "mean       0.497767             0.502217        0.496247        0.498942   \n",
       "std        0.499999             0.499999        0.499990        0.500003   \n",
       "min        0.000000             0.000000        0.000000        0.000000   \n",
       "25%        0.000000             0.000000        0.000000        0.000000   \n",
       "50%        0.000000             1.000000        0.000000        0.000000   \n",
       "75%        1.000000             1.000000        1.000000        1.000000   \n",
       "max        1.000000             1.000000        1.000000        1.000000   \n",
       "\n",
       "             Gender           Age    Heart_Risk  \n",
       "count  63815.000000  63815.000000  63815.000000  \n",
       "mean       0.547708     55.473290      0.497281  \n",
       "std        0.497723     23.443079      0.499997  \n",
       "min        0.000000    -10.000000      0.000000  \n",
       "25%        0.000000     46.000000      0.000000  \n",
       "50%        1.000000     56.000000      0.000000  \n",
       "75%        1.000000     65.000000      1.000000  \n",
       "max        1.000000    200.000000      1.000000  "
      ]
     },
     "execution_count": 20,
     "metadata": {},
     "output_type": "execute_result"
    }
   ],
   "source": [
    "df.describe()"
   ]
  },
  {
   "cell_type": "code",
   "execution_count": 21,
   "metadata": {},
   "outputs": [
    {
     "data": {
      "text/plain": [
       "([0, 1, 2, 3, 4, 5, 6, 7, 8, 9, 10, 11, 12, 13, 14, 15, 16, 17, 18],\n",
       " [Text(0, 0, 'Chest_Pain'),\n",
       "  Text(1, 0, 'Shortness_of_Breath'),\n",
       "  Text(2, 0, 'Fatigue'),\n",
       "  Text(3, 0, 'Palpitations'),\n",
       "  Text(4, 0, 'Dizziness'),\n",
       "  Text(5, 0, 'Swelling'),\n",
       "  Text(6, 0, 'Pain_Arms_Jaw_Back'),\n",
       "  Text(7, 0, 'Cold_Sweats_Nausea'),\n",
       "  Text(8, 0, 'High_BP'),\n",
       "  Text(9, 0, 'High_Cholesterol'),\n",
       "  Text(10, 0, 'Diabetes'),\n",
       "  Text(11, 0, 'Smoking'),\n",
       "  Text(12, 0, 'Obesity'),\n",
       "  Text(13, 0, 'Sedentary_Lifestyle'),\n",
       "  Text(14, 0, 'Family_History'),\n",
       "  Text(15, 0, 'Chronic_Stress'),\n",
       "  Text(16, 0, 'Gender'),\n",
       "  Text(17, 0, 'Age'),\n",
       "  Text(18, 0, 'Heart_Risk')])"
      ]
     },
     "execution_count": 21,
     "metadata": {},
     "output_type": "execute_result"
    },
    {
     "data": {
      "image/png": "[encoded data removed]",
      "text/plain": [
       "<Figure size 640x480 with 1 Axes>"
      ]
     },
     "metadata": {},
     "output_type": "display_data"
    }
   ],
   "source": [
    "sns.boxplot(df)\n",
    "plt.xticks(rotation=95)"
   ]
  },
  {
   "cell_type": "markdown",
   "metadata": {},
   "source": [
    "### handling the outliers"
   ]
  },
  {
   "cell_type": "markdown",
   "metadata": {},
   "source": [
    "  **Outliers in the Data:**\n",
    "\n",
    "1. AgeColumn:\n",
    "   - There are negative values (-10), which are not logical.  \n",
    "   - The maximum value (200) is unusually high and outside the typical human age range.\n",
    "\n",
    "2. Smoking Column:\n",
    "   - The maximum value (99) is abnormal since other columns are binary (0 or 1)."
   ]
  },
  {
   "cell_type": "code",
   "execution_count": 22,
   "metadata": {},
   "outputs": [
    {
     "data": {
      "text/plain": [
       "<Axes: xlabel='Age'>"
      ]
     },
     "execution_count": 22,
     "metadata": {},
     "output_type": "execute_result"
    },
    {
     "data": {
      "image/png": "[encoded data removed]",
      "text/plain": [
       "<Figure size 640x480 with 1 Axes>"
      ]
     },
     "metadata": {},
     "output_type": "display_data"
    }
   ],
   "source": [
    "sns.boxplot(x=df['Age'])\n"
   ]
  },
  {
   "cell_type": "code",
   "execution_count": 23,
   "metadata": {},
   "outputs": [
    {
     "data": {
      "text/plain": [
       "0         True\n",
       "2         True\n",
       "3        False\n",
       "4         True\n",
       "5         True\n",
       "         ...  \n",
       "72064     True\n",
       "72083     True\n",
       "72084     True\n",
       "72093     True\n",
       "72099     True\n",
       "Name: Age, Length: 63815, dtype: bool"
      ]
     },
     "execution_count": 23,
     "metadata": {},
     "output_type": "execute_result"
    }
   ],
   "source": [
    "(df['Age'] >= 18) & (df['Age'] <= 120)"
   ]
  },
  {
   "cell_type": "code",
   "execution_count": 24,
   "metadata": {},
   "outputs": [
    {
     "name": "stdout",
     "output_type": "stream",
     "text": [
      "count    60598.000000\n",
      "mean        54.638734\n",
      "std         15.004951\n",
      "min         20.000000\n",
      "25%         47.000000\n",
      "50%         56.000000\n",
      "75%         64.000000\n",
      "max         84.000000\n",
      "Name: Age, dtype: float64\n"
     ]
    }
   ],
   "source": [
    "df = df[(df['Age'] >= 18) & (df['Age'] <= 120)]\n",
    "print(df['Age'].describe())\n"
   ]
  },
  {
   "cell_type": "code",
   "execution_count": 25,
   "metadata": {},
   "outputs": [
    {
     "name": "stdout",
     "output_type": "stream",
     "text": [
      "Smoking\n",
      "0     27708\n",
      "1     27615\n",
      "3      1801\n",
      "99     1780\n",
      "2      1694\n",
      "Name: count, dtype: int64\n"
     ]
    }
   ],
   "source": [
    "print(df['Smoking'].value_counts())\n"
   ]
  },
  {
   "cell_type": "code",
   "execution_count": 26,
   "metadata": {},
   "outputs": [],
   "source": [
    "most_frequent_value = df['Smoking'].mode()[0]\n",
    "df['Smoking'] = df['Smoking'].apply(lambda x: most_frequent_value if x not in [0, 1] else x)"
   ]
  },
  {
   "cell_type": "code",
   "execution_count": 27,
   "metadata": {},
   "outputs": [
    {
     "name": "stdout",
     "output_type": "stream",
     "text": [
      "Smoking\n",
      "0    32983\n",
      "1    27615\n",
      "Name: count, dtype: int64\n"
     ]
    }
   ],
   "source": [
    "print(df['Smoking'].value_counts())"
   ]
  },
  {
   "cell_type": "code",
   "execution_count": 28,
   "metadata": {},
   "outputs": [
    {
     "data": {
      "text/plain": [
       "count    60598.000000\n",
       "mean         0.455708\n",
       "std          0.498038\n",
       "min          0.000000\n",
       "25%          0.000000\n",
       "50%          0.000000\n",
       "75%          1.000000\n",
       "max          1.000000\n",
       "Name: Smoking, dtype: float64"
      ]
     },
     "execution_count": 28,
     "metadata": {},
     "output_type": "execute_result"
    }
   ],
   "source": [
    "df['Smoking'].describe()"
   ]
  },
  {
   "cell_type": "markdown",
   "metadata": {},
   "source": [
    "### Exploratory Data Analysis"
   ]
  },
  {
   "cell_type": "markdown",
   "metadata": {},
   "source": [
    "` Attribute Classification: `\n",
    "\n",
    "**A. Numerical Attribute:**  \n",
    "- Age (Continuous)  \n",
    "\n",
    "**B. Categorical Attribute:**  \n",
    "- Gender (Nominal)  \n",
    "\n",
    "**C. Binary Attributes (0: No, 1: Yes):**  \n",
    "- Chest_Pain\n",
    "- Shortness_of_Breath \n",
    "- Fatigue \n",
    "- Palpitations\n",
    "- Dizziness\n",
    "- Swelling  \n",
    "- Pain_Arms_Jaw_Back\n",
    "- Cold_Sweats_Nausea\n",
    "- High_BP\n",
    "- High_Cholesterol\n",
    "- Smoking\n",
    "- Obesity\n",
    "- Sedentary_Lifestyle\n",
    "- Family_History\n",
    "- Chronic_Stress \n",
    "\n",
    "**D. Target Variable:**  \n",
    "- Heart_Risk"
   ]
  },
  {
   "cell_type": "code",
   "execution_count": 29,
   "metadata": {},
   "outputs": [
    {
     "data": {
      "application/vnd.microsoft.datawrangler.viewer.v0+json": {
       "columns": [
        {
         "name": "index",
         "rawType": "object",
         "type": "string"
        },
        {
         "name": "Chest_Pain",
         "rawType": "float64",
         "type": "float"
        },
        {
         "name": "Shortness_of_Breath",
         "rawType": "float64",
         "type": "float"
        },
        {
         "name": "Fatigue",
         "rawType": "float64",
         "type": "float"
        },
        {
         "name": "Palpitations",
         "rawType": "float64",
         "type": "float"
        },
        {
         "name": "Dizziness",
         "rawType": "float64",
         "type": "float"
        },
        {
         "name": "Swelling",
         "rawType": "float64",
         "type": "float"
        },
        {
         "name": "Pain_Arms_Jaw_Back",
         "rawType": "float64",
         "type": "float"
        },
        {
         "name": "Cold_Sweats_Nausea",
         "rawType": "float64",
         "type": "float"
        },
        {
         "name": "High_BP",
         "rawType": "float64",
         "type": "float"
        },
        {
         "name": "High_Cholesterol",
         "rawType": "float64",
         "type": "float"
        },
        {
         "name": "Diabetes",
         "rawType": "float64",
         "type": "float"
        },
        {
         "name": "Smoking",
         "rawType": "float64",
         "type": "float"
        },
        {
         "name": "Obesity",
         "rawType": "float64",
         "type": "float"
        },
        {
         "name": "Sedentary_Lifestyle",
         "rawType": "float64",
         "type": "float"
        },
        {
         "name": "Family_History",
         "rawType": "float64",
         "type": "float"
        },
        {
         "name": "Chronic_Stress",
         "rawType": "float64",
         "type": "float"
        },
        {
         "name": "Gender",
         "rawType": "float64",
         "type": "float"
        },
        {
         "name": "Age",
         "rawType": "float64",
         "type": "float"
        },
        {
         "name": "Heart_Risk",
         "rawType": "float64",
         "type": "float"
        }
       ],
       "conversionMethod": "pd.DataFrame",
       "ref": "536c2f04-2c1d-4c25-b7c6-e59809e91aa6",
       "rows": [
        [
         "count",
         "60598.0",
         "60598.0",
         "60598.0",
         "60598.0",
         "60598.0",
         "60598.0",
         "60598.0",
         "60598.0",
         "60598.0",
         "60598.0",
         "60598.0",
         "60598.0",
         "60598.0",
         "60598.0",
         "60598.0",
         "60598.0",
         "60598.0",
         "60598.0",
         "60598.0"
        ],
        [
         "mean",
         "0.4968315785999538",
         "0.4981517541833064",
         "0.4966005478728671",
         "0.49627050397702893",
         "0.5",
         "0.4966830588468266",
         "0.4993069078187399",
         "0.5002310307270867",
         "0.4188257038186079",
         "0.41989834648008184",
         "0.5006270834020925",
         "0.4557081091785207",
         "0.4981022475989307",
         "0.5029043862833756",
         "0.49651803689890756",
         "0.499108881481237",
         "0.5480213868444503",
         "54.63873395161556",
         "0.4974751641968382"
        ],
        [
         "std",
         "0.49999408652197563",
         "0.5000007095473047",
         "0.49999256909608963",
         "0.4999902161509355",
         "0.5000041255997592",
         "0.4999931232893152",
         "0.5000036452187929",
         "0.500004072224119",
         "0.4933708042812058",
         "0.49354609190610477",
         "0.5000037323627666",
         "0.49803847406617757",
         "0.5000005240928962",
         "0.49999568999931454",
         "0.49999200128568594",
         "0.5000033315003619",
         "0.49769271038135743",
         "15.004951113214004",
         "0.4999977507106876"
        ],
        [
         "min",
         "0.0",
         "0.0",
         "0.0",
         "0.0",
         "0.0",
         "0.0",
         "0.0",
         "0.0",
         "0.0",
         "0.0",
         "0.0",
         "0.0",
         "0.0",
         "0.0",
         "0.0",
         "0.0",
         "0.0",
         "20.0",
         "0.0"
        ],
        [
         "25%",
         "0.0",
         "0.0",
         "0.0",
         "0.0",
         "0.0",
         "0.0",
         "0.0",
         "0.0",
         "0.0",
         "0.0",
         "0.0",
         "0.0",
         "0.0",
         "0.0",
         "0.0",
         "0.0",
         "0.0",
         "47.0",
         "0.0"
        ],
        [
         "50%",
         "0.0",
         "0.0",
         "0.0",
         "0.0",
         "0.5",
         "0.0",
         "0.0",
         "1.0",
         "0.0",
         "0.0",
         "1.0",
         "0.0",
         "0.0",
         "1.0",
         "0.0",
         "0.0",
         "1.0",
         "56.0",
         "0.0"
        ],
        [
         "75%",
         "1.0",
         "1.0",
         "1.0",
         "1.0",
         "1.0",
         "1.0",
         "1.0",
         "1.0",
         "1.0",
         "1.0",
         "1.0",
         "1.0",
         "1.0",
         "1.0",
         "1.0",
         "1.0",
         "1.0",
         "64.0",
         "1.0"
        ],
        [
         "max",
         "1.0",
         "1.0",
         "1.0",
         "1.0",
         "1.0",
         "1.0",
         "1.0",
         "1.0",
         "1.0",
         "1.0",
         "1.0",
         "1.0",
         "1.0",
         "1.0",
         "1.0",
         "1.0",
         "1.0",
         "84.0",
         "1.0"
        ]
       ],
       "shape": {
        "columns": 19,
        "rows": 8
       }
      },
      "text/html": [
       "<div>\n",
       "<style scoped>\n",
       "    .dataframe tbody tr th:only-of-type {\n",
       "        vertical-align: middle;\n",
       "    }\n",
       "\n",
       "    .dataframe tbody tr th {\n",
       "        vertical-align: top;\n",
       "    }\n",
       "\n",
       "    .dataframe thead th {\n",
       "        text-align: right;\n",
       "    }\n",
       "</style>\n",
       "<table border=\"1\" class=\"dataframe\">\n",
       "  <thead>\n",
       "    <tr style=\"text-align: right;\">\n",
       "      <th></th>\n",
       "      <th>Chest_Pain</th>\n",
       "      <th>Shortness_of_Breath</th>\n",
       "      <th>Fatigue</th>\n",
       "      <th>Palpitations</th>\n",
       "      <th>Dizziness</th>\n",
       "      <th>Swelling</th>\n",
       "      <th>Pain_Arms_Jaw_Back</th>\n",
       "      <th>Cold_Sweats_Nausea</th>\n",
       "      <th>High_BP</th>\n",
       "      <th>High_Cholesterol</th>\n",
       "      <th>Diabetes</th>\n",
       "      <th>Smoking</th>\n",
       "      <th>Obesity</th>\n",
       "      <th>Sedentary_Lifestyle</th>\n",
       "      <th>Family_History</th>\n",
       "      <th>Chronic_Stress</th>\n",
       "      <th>Gender</th>\n",
       "      <th>Age</th>\n",
       "      <th>Heart_Risk</th>\n",
       "    </tr>\n",
       "  </thead>\n",
       "  <tbody>\n",
       "    <tr>\n",
       "      <th>count</th>\n",
       "      <td>60598.000000</td>\n",
       "      <td>60598.000000</td>\n",
       "      <td>60598.000000</td>\n",
       "      <td>60598.000000</td>\n",
       "      <td>60598.000000</td>\n",
       "      <td>60598.000000</td>\n",
       "      <td>60598.000000</td>\n",
       "      <td>60598.000000</td>\n",
       "      <td>60598.000000</td>\n",
       "      <td>60598.000000</td>\n",
       "      <td>60598.000000</td>\n",
       "      <td>60598.000000</td>\n",
       "      <td>60598.000000</td>\n",
       "      <td>60598.000000</td>\n",
       "      <td>60598.000000</td>\n",
       "      <td>60598.000000</td>\n",
       "      <td>60598.000000</td>\n",
       "      <td>60598.000000</td>\n",
       "      <td>60598.000000</td>\n",
       "    </tr>\n",
       "    <tr>\n",
       "      <th>mean</th>\n",
       "      <td>0.496832</td>\n",
       "      <td>0.498152</td>\n",
       "      <td>0.496601</td>\n",
       "      <td>0.496271</td>\n",
       "      <td>0.500000</td>\n",
       "      <td>0.496683</td>\n",
       "      <td>0.499307</td>\n",
       "      <td>0.500231</td>\n",
       "      <td>0.418826</td>\n",
       "      <td>0.419898</td>\n",
       "      <td>0.500627</td>\n",
       "      <td>0.455708</td>\n",
       "      <td>0.498102</td>\n",
       "      <td>0.502904</td>\n",
       "      <td>0.496518</td>\n",
       "      <td>0.499109</td>\n",
       "      <td>0.548021</td>\n",
       "      <td>54.638734</td>\n",
       "      <td>0.497475</td>\n",
       "    </tr>\n",
       "    <tr>\n",
       "      <th>std</th>\n",
       "      <td>0.499994</td>\n",
       "      <td>0.500001</td>\n",
       "      <td>0.499993</td>\n",
       "      <td>0.499990</td>\n",
       "      <td>0.500004</td>\n",
       "      <td>0.499993</td>\n",
       "      <td>0.500004</td>\n",
       "      <td>0.500004</td>\n",
       "      <td>0.493371</td>\n",
       "      <td>0.493546</td>\n",
       "      <td>0.500004</td>\n",
       "      <td>0.498038</td>\n",
       "      <td>0.500001</td>\n",
       "      <td>0.499996</td>\n",
       "      <td>0.499992</td>\n",
       "      <td>0.500003</td>\n",
       "      <td>0.497693</td>\n",
       "      <td>15.004951</td>\n",
       "      <td>0.499998</td>\n",
       "    </tr>\n",
       "    <tr>\n",
       "      <th>min</th>\n",
       "      <td>0.000000</td>\n",
       "      <td>0.000000</td>\n",
       "      <td>0.000000</td>\n",
       "      <td>0.000000</td>\n",
       "      <td>0.000000</td>\n",
       "      <td>0.000000</td>\n",
       "      <td>0.000000</td>\n",
       "      <td>0.000000</td>\n",
       "      <td>0.000000</td>\n",
       "      <td>0.000000</td>\n",
       "      <td>0.000000</td>\n",
       "      <td>0.000000</td>\n",
       "      <td>0.000000</td>\n",
       "      <td>0.000000</td>\n",
       "      <td>0.000000</td>\n",
       "      <td>0.000000</td>\n",
       "      <td>0.000000</td>\n",
       "      <td>20.000000</td>\n",
       "      <td>0.000000</td>\n",
       "    </tr>\n",
       "    <tr>\n",
       "      <th>25%</th>\n",
       "      <td>0.000000</td>\n",
       "      <td>0.000000</td>\n",
       "      <td>0.000000</td>\n",
       "      <td>0.000000</td>\n",
       "      <td>0.000000</td>\n",
       "      <td>0.000000</td>\n",
       "      <td>0.000000</td>\n",
       "      <td>0.000000</td>\n",
       "      <td>0.000000</td>\n",
       "      <td>0.000000</td>\n",
       "      <td>0.000000</td>\n",
       "      <td>0.000000</td>\n",
       "      <td>0.000000</td>\n",
       "      <td>0.000000</td>\n",
       "      <td>0.000000</td>\n",
       "      <td>0.000000</td>\n",
       "      <td>0.000000</td>\n",
       "      <td>47.000000</td>\n",
       "      <td>0.000000</td>\n",
       "    </tr>\n",
       "    <tr>\n",
       "      <th>50%</th>\n",
       "      <td>0.000000</td>\n",
       "      <td>0.000000</td>\n",
       "      <td>0.000000</td>\n",
       "      <td>0.000000</td>\n",
       "      <td>0.500000</td>\n",
       "      <td>0.000000</td>\n",
       "      <td>0.000000</td>\n",
       "      <td>1.000000</td>\n",
       "      <td>0.000000</td>\n",
       "      <td>0.000000</td>\n",
       "      <td>1.000000</td>\n",
       "      <td>0.000000</td>\n",
       "      <td>0.000000</td>\n",
       "      <td>1.000000</td>\n",
       "      <td>0.000000</td>\n",
       "      <td>0.000000</td>\n",
       "      <td>1.000000</td>\n",
       "      <td>56.000000</td>\n",
       "      <td>0.000000</td>\n",
       "    </tr>\n",
       "    <tr>\n",
       "      <th>75%</th>\n",
       "      <td>1.000000</td>\n",
       "      <td>1.000000</td>\n",
       "      <td>1.000000</td>\n",
       "      <td>1.000000</td>\n",
       "      <td>1.000000</td>\n",
       "      <td>1.000000</td>\n",
       "      <td>1.000000</td>\n",
       "      <td>1.000000</td>\n",
       "      <td>1.000000</td>\n",
       "      <td>1.000000</td>\n",
       "      <td>1.000000</td>\n",
       "      <td>1.000000</td>\n",
       "      <td>1.000000</td>\n",
       "      <td>1.000000</td>\n",
       "      <td>1.000000</td>\n",
       "      <td>1.000000</td>\n",
       "      <td>1.000000</td>\n",
       "      <td>64.000000</td>\n",
       "      <td>1.000000</td>\n",
       "    </tr>\n",
       "    <tr>\n",
       "      <th>max</th>\n",
       "      <td>1.000000</td>\n",
       "      <td>1.000000</td>\n",
       "      <td>1.000000</td>\n",
       "      <td>1.000000</td>\n",
       "      <td>1.000000</td>\n",
       "      <td>1.000000</td>\n",
       "      <td>1.000000</td>\n",
       "      <td>1.000000</td>\n",
       "      <td>1.000000</td>\n",
       "      <td>1.000000</td>\n",
       "      <td>1.000000</td>\n",
       "      <td>1.000000</td>\n",
       "      <td>1.000000</td>\n",
       "      <td>1.000000</td>\n",
       "      <td>1.000000</td>\n",
       "      <td>1.000000</td>\n",
       "      <td>1.000000</td>\n",
       "      <td>84.000000</td>\n",
       "      <td>1.000000</td>\n",
       "    </tr>\n",
       "  </tbody>\n",
       "</table>\n",
       "</div>"
      ],
      "text/plain": [
       "         Chest_Pain  Shortness_of_Breath       Fatigue  Palpitations  \\\n",
       "count  60598.000000         60598.000000  60598.000000  60598.000000   \n",
       "mean       0.496832             0.498152      0.496601      0.496271   \n",
       "std        0.499994             0.500001      0.499993      0.499990   \n",
       "min        0.000000             0.000000      0.000000      0.000000   \n",
       "25%        0.000000             0.000000      0.000000      0.000000   \n",
       "50%        0.000000             0.000000      0.000000      0.000000   \n",
       "75%        1.000000             1.000000      1.000000      1.000000   \n",
       "max        1.000000             1.000000      1.000000      1.000000   \n",
       "\n",
       "          Dizziness      Swelling  Pain_Arms_Jaw_Back  Cold_Sweats_Nausea  \\\n",
       "count  60598.000000  60598.000000        60598.000000        60598.000000   \n",
       "mean       0.500000      0.496683            0.499307            0.500231   \n",
       "std        0.500004      0.499993            0.500004            0.500004   \n",
       "min        0.000000      0.000000            0.000000            0.000000   \n",
       "25%        0.000000      0.000000            0.000000            0.000000   \n",
       "50%        0.500000      0.000000            0.000000            1.000000   \n",
       "75%        1.000000      1.000000            1.000000            1.000000   \n",
       "max        1.000000      1.000000            1.000000            1.000000   \n",
       "\n",
       "            High_BP  High_Cholesterol      Diabetes       Smoking  \\\n",
       "count  60598.000000      60598.000000  60598.000000  60598.000000   \n",
       "mean       0.418826          0.419898      0.500627      0.455708   \n",
       "std        0.493371          0.493546      0.500004      0.498038   \n",
       "min        0.000000          0.000000      0.000000      0.000000   \n",
       "25%        0.000000          0.000000      0.000000      0.000000   \n",
       "50%        0.000000          0.000000      1.000000      0.000000   \n",
       "75%        1.000000          1.000000      1.000000      1.000000   \n",
       "max        1.000000          1.000000      1.000000      1.000000   \n",
       "\n",
       "            Obesity  Sedentary_Lifestyle  Family_History  Chronic_Stress  \\\n",
       "count  60598.000000         60598.000000    60598.000000    60598.000000   \n",
       "mean       0.498102             0.502904        0.496518        0.499109   \n",
       "std        0.500001             0.499996        0.499992        0.500003   \n",
       "min        0.000000             0.000000        0.000000        0.000000   \n",
       "25%        0.000000             0.000000        0.000000        0.000000   \n",
       "50%        0.000000             1.000000        0.000000        0.000000   \n",
       "75%        1.000000             1.000000        1.000000        1.000000   \n",
       "max        1.000000             1.000000        1.000000        1.000000   \n",
       "\n",
       "             Gender           Age    Heart_Risk  \n",
       "count  60598.000000  60598.000000  60598.000000  \n",
       "mean       0.548021     54.638734      0.497475  \n",
       "std        0.497693     15.004951      0.499998  \n",
       "min        0.000000     20.000000      0.000000  \n",
       "25%        0.000000     47.000000      0.000000  \n",
       "50%        1.000000     56.000000      0.000000  \n",
       "75%        1.000000     64.000000      1.000000  \n",
       "max        1.000000     84.000000      1.000000  "
      ]
     },
     "execution_count": 29,
     "metadata": {},
     "output_type": "execute_result"
    }
   ],
   "source": [
    "df.describe()"
   ]
  },
  {
   "cell_type": "markdown",
   "metadata": {},
   "source": [
    "`Dataset Summary `\n",
    "- Total Records: 60,598 samples.  \n",
    "- Balanced Data: Most features are evenly split (0 or 1).  \n",
    "\n",
    "Age\n",
    "- Mean Age: 54.6 years (Range: 20–84).  \n",
    "Insight: Focuses on middle-aged and older adults.  \n",
    "\n",
    "Gender\n",
    "- Male: 54%, Female: 46%.  \n",
    "Insight: Slight male dominance.  \n",
    "\n",
    "Binary Features \n",
    "- Most symptoms and conditions are evenly distributed.  \n",
    "Insight: Balanced representation of medical conditions.  \n",
    "\n",
    "Heart Risk\n",
    "- Mean: 0.497 (Balanced target).  \n",
    "Insight: Ideal for unbiased model training."
   ]
  },
  {
   "cell_type": "markdown",
   "metadata": {},
   "source": [
    "`Checking Balanced or Imbalanced Dataset`"
   ]
  },
  {
   "cell_type": "code",
   "execution_count": 30,
   "metadata": {},
   "outputs": [
    {
     "data": {
      "text/plain": [
       "Text(0.5, 1.02, 'Count of TARGET Variable per category')"
      ]
     },
     "execution_count": 30,
     "metadata": {},
     "output_type": "execute_result"
    },
    {
     "data": {
      "image/png": "[encoded data removed]",
      "text/plain": [
       "<Figure size 600x400 with 1 Axes>"
      ]
     },
     "metadata": {},
     "output_type": "display_data"
    }
   ],
   "source": [
    "df['Heart_Risk'].value_counts().plot(kind='barh', color=\"#204D00\", figsize=(6, 4))\n",
    "plt.xlabel(\"Count\", labelpad=14)\n",
    "plt.ylabel(\"Target Variable\", labelpad=14)\n",
    "plt.title(\"Count of TARGET Variable per category\", y=1.02)\n"
   ]
  },
  {
   "cell_type": "code",
   "execution_count": 31,
   "metadata": {},
   "outputs": [
    {
     "data": {
      "text/plain": [
       "Heart_Risk\n",
       "0    30452\n",
       "1    30146\n",
       "Name: count, dtype: int64"
      ]
     },
     "execution_count": 31,
     "metadata": {},
     "output_type": "execute_result"
    }
   ],
   "source": [
    "df['Heart_Risk'].value_counts()"
   ]
  },
  {
   "cell_type": "markdown",
   "metadata": {},
   "source": [
    "` Distribution of Heart_Risk Classes:`\n",
    "\n",
    "| Class (Heart_Risk) | Count   |\n",
    "|--------------------|---------|\n",
    "| **0** (No Risk)    | **32,081** |\n",
    "| **1** (At Risk)    | **31,734** |\n",
    "\n",
    "\n",
    "- The class distribution is **balanced**:\n",
    "  - Class 0 ≈ **50.27%**\n",
    "  - Class 1 ≈ **49.73%**\n",
    " **Balanced data** helps machine learning models avoid **bias** toward the majority class, improving model performance.\n",
    "\n"
   ]
  },
  {
   "cell_type": "code",
   "execution_count": 32,
   "metadata": {},
   "outputs": [
    {
     "name": "stdout",
     "output_type": "stream",
     "text": [
      "Chest_Pain => (2,)\n",
      "Shortness_of_Breath => (2,)\n",
      "Fatigue => (2,)\n",
      "Palpitations => (2,)\n",
      "Dizziness => (2,)\n",
      "Swelling => (2,)\n",
      "Pain_Arms_Jaw_Back => (2,)\n",
      "Cold_Sweats_Nausea => (2,)\n",
      "High_BP => (2,)\n",
      "High_Cholesterol => (2,)\n",
      "Diabetes => (2,)\n",
      "Smoking => (2,)\n",
      "Obesity => (2,)\n",
      "Sedentary_Lifestyle => (2,)\n",
      "Family_History => (2,)\n",
      "Chronic_Stress => (2,)\n",
      "Gender => (2,)\n",
      "Age => (65,)\n",
      "Heart_Risk => (2,)\n"
     ]
    }
   ],
   "source": [
    "# Checking which feature/column should be converted into Bins\n",
    "for column in df.columns:\n",
    "    print(f'{column} =>', df[column].value_counts().shape)"
   ]
  },
  {
   "cell_type": "markdown",
   "metadata": {},
   "source": [
    "- we can group the data into 5 bins.\n",
    "- Binning these values will simplify the analysis and enhance the clarity of data visualization"
   ]
  },
  {
   "cell_type": "code",
   "execution_count": 33,
   "metadata": {},
   "outputs": [
    {
     "name": "stdout",
     "output_type": "stream",
     "text": [
      "Age_Binned\n",
      "56+      35294\n",
      "46-55    11454\n",
      "36-45     5690\n",
      "26-35     5128\n",
      "18-25     3032\n",
      "Name: count, dtype: int64\n"
     ]
    }
   ],
   "source": [
    "bins = [18, 25, 35, 45, 55, float('inf')]\n",
    "labels = ['18-25', '26-35', '36-45', '46-55', '56+']\n",
    "\n",
    "df['Age_Binned'] = pd.cut(df['Age'], bins=bins, labels=labels, right=True)\n",
    "\n",
    "print(df['Age_Binned'].value_counts())\n"
   ]
  },
  {
   "cell_type": "code",
   "execution_count": 34,
   "metadata": {},
   "outputs": [
    {
     "name": "stderr",
     "output_type": "stream",
     "text": [
      "C:\\Users\\MOBI LAP\\AppData\\Local\\Temp\\ipykernel_41460\\2619611320.py:2: FutureWarning: \n",
      "\n",
      "Passing `palette` without assigning `hue` is deprecated and will be removed in v0.14.0. Assign the `x` variable to `hue` and set `legend=False` for the same effect.\n",
      "\n",
      "  sns.countplot(x='Age_Binned', data=df, palette='viridis')\n"
     ]
    },
    {
     "data": {
      "image/png": "[encoded data removed]",
      "text/plain": [
       "<Figure size 800x500 with 1 Axes>"
      ]
     },
     "metadata": {},
     "output_type": "display_data"
    }
   ],
   "source": [
    "plt.figure(figsize=(8, 5))\n",
    "sns.countplot(x='Age_Binned', data=df, palette='viridis')\n",
    "plt.title('Age Group Distribution')\n",
    "plt.xlabel('Age Groups')\n",
    "plt.ylabel('Count')\n",
    "plt.show()\n"
   ]
  },
  {
   "cell_type": "markdown",
   "metadata": {},
   "source": [
    "\n",
    "- Most of the people in the data are over 56 years old, while the 18-25 category is the lowest. This may indicate that older adults are more represented in the study on heart disease risk."
   ]
  },
  {
   "cell_type": "code",
   "execution_count": 35,
   "metadata": {},
   "outputs": [
    {
     "data": {
      "image/png": "[encoded data removed]",
      "text/plain": [
       "<Figure size 1000x400 with 3 Axes>"
      ]
     },
     "metadata": {},
     "output_type": "display_data"
    }
   ],
   "source": [
    "gender_colors = ['#3498db', '#ff69b4']      \n",
    "risk_colors = ['#87CEFA', '#FFB6C1']   \n",
    "\n",
    "gender_counts = df['Gender'].value_counts()\n",
    "\n",
    "male_risk = df[df['Gender'] == 1]['Heart_Risk'].value_counts()\n",
    "female_risk = df[df['Gender'] == 0]['Heart_Risk'].value_counts()\n",
    "\n",
    "fig, axes = plt.subplots(1, 3, figsize=(10, 4))\n",
    "\n",
    "axes[0].pie(gender_counts, labels=['Male', 'Female'], autopct='%1.1f%%', colors=gender_colors)\n",
    "axes[0].set_title('Gender Distribution')\n",
    "\n",
    "axes[1].pie(male_risk, labels=['No Risk', 'Risk'], autopct='%1.1f%%', colors=risk_colors)\n",
    "axes[1].set_title('Heart Risk (Male)')\n",
    "\n",
    "axes[2].pie(female_risk, labels=['No Risk', 'Risk'], autopct='%1.1f%%', colors=risk_colors)\n",
    "axes[2].set_title('Heart Risk (Female)')\n",
    "\n",
    "plt.tight_layout()\n",
    "plt.show()\n"
   ]
  },
  {
   "cell_type": "markdown",
   "metadata": {},
   "source": [
    "Males have a higher proportion both in the dataset and in heart disease risk compared to females.\n",
    "Both genders show balanced representation in heart disease risk, though males are slightly more affected."
   ]
  },
  {
   "cell_type": "code",
   "execution_count": 36,
   "metadata": {},
   "outputs": [
    {
     "name": "stderr",
     "output_type": "stream",
     "text": [
      "C:\\Users\\MOBI LAP\\AppData\\Local\\Temp\\ipykernel_41460\\3030102031.py:1: FutureWarning: The default of observed=False is deprecated and will be changed to True in a future version of pandas. Pass observed=False to retain current behavior or observed=True to adopt the future default and silence this warning.\n",
      "  age_risk_counts = df.groupby(['Age_Binned', 'Heart_Risk']).size().unstack(fill_value=0)\n"
     ]
    },
    {
     "data": {
      "image/png": "[encoded data removed]",
      "text/plain": [
       "<Figure size 700x400 with 1 Axes>"
      ]
     },
     "metadata": {},
     "output_type": "display_data"
    }
   ],
   "source": [
    "age_risk_counts = df.groupby(['Age_Binned', 'Heart_Risk']).size().unstack(fill_value=0)\n",
    "age_risk_percent = age_risk_counts.div(age_risk_counts.sum(axis=1), axis=0) * 100\n",
    "\n",
    "fig, ax = plt.subplots(figsize=(7, 4))\n",
    "\n",
    "colors = ['#66b3ff', '#ff66b3'] \n",
    "labels = ['No Risk', 'Risk']\n",
    "\n",
    "bars = age_risk_percent.plot(kind='bar', stacked=True, color=colors, ax=ax, edgecolor='black')\n",
    "\n",
    "for i, (no_risk, risk) in enumerate(zip(age_risk_percent[0], age_risk_percent[1])):\n",
    "    ax.text(i, no_risk / 2, f'{no_risk:.1f}%', ha='center', color='black', fontsize=10)\n",
    "    ax.text(i, no_risk + risk / 2, f'{risk:.1f}%', ha='center', color='black', fontsize=10)\n",
    "\n",
    "ax.set_ylabel('Percentage')\n",
    "ax.set_xlabel('Age Group')\n",
    "ax.set_title('Heart Risk Distribution by Age Group')\n",
    "ax.legend(labels)\n",
    "plt.xticks(rotation=45)\n",
    "plt.tight_layout()\n",
    "plt.show()"
   ]
  },
  {
   "cell_type": "markdown",
   "metadata": {},
   "source": [
    "Heart disease risk increases with age, becoming a major concern from 46 years onwards."
   ]
  },
  {
   "cell_type": "code",
   "execution_count": 37,
   "metadata": {},
   "outputs": [
    {
     "data": {
      "image/png": "[encoded data removed]",
      "text/plain": [
       "<Figure size 2500x3000 with 14 Axes>"
      ]
     },
     "metadata": {},
     "output_type": "display_data"
    }
   ],
   "source": [
    "\n",
    "categorical_columns = ['Chest_Pain', 'Shortness_of_Breath', 'Fatigue', 'Palpitations', 'Dizziness',\n",
    "                       'Swelling', 'Pain_Arms_Jaw_Back', 'Cold_Sweats_Nausea', 'Diabetes', 'Smoking',\n",
    "                       'Obesity', 'Sedentary_Lifestyle', 'Family_History', 'Chronic_Stress']\n",
    "\n",
    "plt.figure(figsize=(25, 30))\n",
    "\n",
    "for i, col in enumerate(categorical_columns, 1):\n",
    "\n",
    "    plt.subplot(6,4, i)\n",
    "    sns.countplot(x='Gender', hue='Heart_Risk', data=df, palette='Set1')\n",
    "    plt.title(f'Relationship Between {col} and Heart Risk')\n",
    "    plt.xlabel(col)\n",
    "    plt.ylabel('Count')\n",
    "\n",
    "plt.legend(['No Risk (0)', 'Risk (1)'])\n",
    "plt.show()\n",
    "\n"
   ]
  },
  {
   "cell_type": "markdown",
   "metadata": {},
   "source": [
    "All of these factors clearly influence the risk of heart disease, with the following columns showing a significant association with increased risk:\n",
    "\n",
    "- Smoking, obesity, diabetes, family history, and sedentary lifestyle\n",
    "- Symptoms such as chest pain, shortness of breath, and heart palpitations"
   ]
  },
  {
   "cell_type": "code",
   "execution_count": 38,
   "metadata": {},
   "outputs": [
    {
     "name": "stdout",
     "output_type": "stream",
     "text": [
      "Index(['Chest_Pain', 'Shortness_of_Breath', 'Fatigue', 'Palpitations',\n",
      "       'Dizziness', 'Swelling', 'Pain_Arms_Jaw_Back', 'Cold_Sweats_Nausea',\n",
      "       'High_BP', 'High_Cholesterol', 'Diabetes', 'Smoking', 'Obesity',\n",
      "       'Sedentary_Lifestyle', 'Family_History', 'Chronic_Stress', 'Gender',\n",
      "       'Age', 'Heart_Risk', 'Age_Binned'],\n",
      "      dtype='object')\n"
     ]
    }
   ],
   "source": [
    "print(df.columns)"
   ]
  },
  {
   "cell_type": "code",
   "execution_count": 39,
   "metadata": {},
   "outputs": [],
   "source": [
    "df = df.drop('Age_Binned', axis=1, errors='ignore')\n"
   ]
  },
  {
   "cell_type": "code",
   "execution_count": 43,
   "metadata": {},
   "outputs": [
    {
     "data": {
      "application/vnd.plotly.v1+json": {
       "config": {
        "plotlyServerURL": "https://plot.ly"
       },
       "data": [
        {
         "hovertemplate": "x=%{x}<br>index=%{y}<extra></extra>",
         "legendgroup": "",
         "marker": {
          "color": "#636efa",
          "pattern": {
           "shape": ""
          }
         },
         "name": "",
         "orientation": "h",
         "showlegend": false,
         "textposition": "auto",
         "type": "bar",
         "x": {
          "bdata": "yApQ3y6/4j/E9dl7B77iPyG5SmZJsuI/7MtpBNyt4j9V4ASFvafiP0/kepq1puI/27C1F4Ck4j8w0I0Y8Y/iP85Obchzr+E/Up1qh6fV2D+ohyF7fK/YP9cvBQPVq9g/PhSGFqKL2D9MHUvo7XTYP3sN0MgcsdY/uTJqnP5N1T99lgci1EHVP3PxlvIkF9I/",
          "dtype": "f8"
         },
         "xaxis": "x",
         "y": [
          "Cold_Sweats_Nausea",
          "Pain_Arms_Jaw_Back",
          "Swelling",
          "Dizziness",
          "Fatigue",
          "Shortness_of_Breath",
          "Chest_Pain",
          "Palpitations",
          "Age",
          "Sedentary_Lifestyle",
          "Obesity",
          "Chronic_Stress",
          "Diabetes",
          "Family_History",
          "Smoking",
          "High_BP",
          "High_Cholesterol",
          "Gender"
         ],
         "yaxis": "y"
        }
       ],
       "layout": {
        "barmode": "relative",
        "legend": {
         "tracegroupgap": 0
        },
        "template": {
         "data": {
          "bar": [
           {
            "error_x": {
             "color": "#2a3f5f"
            },
            "error_y": {
             "color": "#2a3f5f"
            },
            "marker": {
             "line": {
              "color": "#E5ECF6",
              "width": 0.5
             },
             "pattern": {
              "fillmode": "overlay",
              "size": 10,
              "solidity": 0.2
             }
            },
            "type": "bar"
           }
          ],
          "barpolar": [
           {
            "marker": {
             "line": {
              "color": "#E5ECF6",
              "width": 0.5
             },
             "pattern": {
              "fillmode": "overlay",
              "size": 10,
              "solidity": 0.2
             }
            },
            "type": "barpolar"
           }
          ],
          "carpet": [
           {
            "aaxis": {
             "endlinecolor": "#2a3f5f",
             "gridcolor": "white",
             "linecolor": "white",
             "minorgridcolor": "white",
             "startlinecolor": "#2a3f5f"
            },
            "baxis": {
             "endlinecolor": "#2a3f5f",
             "gridcolor": "white",
             "linecolor": "white",
             "minorgridcolor": "white",
             "startlinecolor": "#2a3f5f"
            },
            "type": "carpet"
           }
          ],
          "choropleth": [
           {
            "colorbar": {
             "outlinewidth": 0,
             "ticks": ""
            },
            "type": "choropleth"
           }
          ],
          "contour": [
           {
            "colorbar": {
             "outlinewidth": 0,
             "ticks": ""
            },
            "colorscale": [
             [
              0,
              "#0d0887"
             ],
             [
              0.1111111111111111,
              "#46039f"
             ],
             [
              0.2222222222222222,
              "#7201a8"
             ],
             [
              0.3333333333333333,
              "#9c179e"
             ],
             [
              0.4444444444444444,
              "#bd3786"
             ],
             [
              0.5555555555555556,
              "#d8576b"
             ],
             [
              0.6666666666666666,
              "#ed7953"
             ],
             [
              0.7777777777777778,
              "#fb9f3a"
             ],
             [
              0.8888888888888888,
              "#fdca26"
             ],
             [
              1,
              "#f0f921"
             ]
            ],
            "type": "contour"
           }
          ],
          "contourcarpet": [
           {
            "colorbar": {
             "outlinewidth": 0,
             "ticks": ""
            },
            "type": "contourcarpet"
           }
          ],
          "heatmap": [
           {
            "colorbar": {
             "outlinewidth": 0,
             "ticks": ""
            },
            "colorscale": [
             [
              0,
              "#0d0887"
             ],
             [
              0.1111111111111111,
              "#46039f"
             ],
             [
              0.2222222222222222,
              "#7201a8"
             ],
             [
              0.3333333333333333,
              "#9c179e"
             ],
             [
              0.4444444444444444,
              "#bd3786"
             ],
             [
              0.5555555555555556,
              "#d8576b"
             ],
             [
              0.6666666666666666,
              "#ed7953"
             ],
             [
              0.7777777777777778,
              "#fb9f3a"
             ],
             [
              0.8888888888888888,
              "#fdca26"
             ],
             [
              1,
              "#f0f921"
             ]
            ],
            "type": "heatmap"
           }
          ],
          "histogram": [
           {
            "marker": {
             "pattern": {
              "fillmode": "overlay",
              "size": 10,
              "solidity": 0.2
             }
            },
            "type": "histogram"
           }
          ],
          "histogram2d": [
           {
            "colorbar": {
             "outlinewidth": 0,
             "ticks": ""
            },
            "colorscale": [
             [
              0,
              "#0d0887"
             ],
             [
              0.1111111111111111,
              "#46039f"
             ],
             [
              0.2222222222222222,
              "#7201a8"
             ],
             [
              0.3333333333333333,
              "#9c179e"
             ],
             [
              0.4444444444444444,
              "#bd3786"
             ],
             [
              0.5555555555555556,
              "#d8576b"
             ],
             [
              0.6666666666666666,
              "#ed7953"
             ],
             [
              0.7777777777777778,
              "#fb9f3a"
             ],
             [
              0.8888888888888888,
              "#fdca26"
             ],
             [
              1,
              "#f0f921"
             ]
            ],
            "type": "histogram2d"
           }
          ],
          "histogram2dcontour": [
           {
            "colorbar": {
             "outlinewidth": 0,
             "ticks": ""
            },
            "colorscale": [
             [
              0,
              "#0d0887"
             ],
             [
              0.1111111111111111,
              "#46039f"
             ],
             [
              0.2222222222222222,
              "#7201a8"
             ],
             [
              0.3333333333333333,
              "#9c179e"
             ],
             [
              0.4444444444444444,
              "#bd3786"
             ],
             [
              0.5555555555555556,
              "#d8576b"
             ],
             [
              0.6666666666666666,
              "#ed7953"
             ],
             [
              0.7777777777777778,
              "#fb9f3a"
             ],
             [
              0.8888888888888888,
              "#fdca26"
             ],
             [
              1,
              "#f0f921"
             ]
            ],
            "type": "histogram2dcontour"
           }
          ],
          "mesh3d": [
           {
            "colorbar": {
             "outlinewidth": 0,
             "ticks": ""
            },
            "type": "mesh3d"
           }
          ],
          "parcoords": [
           {
            "line": {
             "colorbar": {
              "outlinewidth": 0,
              "ticks": ""
             }
            },
            "type": "parcoords"
           }
          ],
          "pie": [
           {
            "automargin": true,
            "type": "pie"
           }
          ],
          "scatter": [
           {
            "fillpattern": {
             "fillmode": "overlay",
             "size": 10,
             "solidity": 0.2
            },
            "type": "scatter"
           }
          ],
          "scatter3d": [
           {
            "line": {
             "colorbar": {
              "outlinewidth": 0,
              "ticks": ""
             }
            },
            "marker": {
             "colorbar": {
              "outlinewidth": 0,
              "ticks": ""
             }
            },
            "type": "scatter3d"
           }
          ],
          "scattercarpet": [
           {
            "marker": {
             "colorbar": {
              "outlinewidth": 0,
              "ticks": ""
             }
            },
            "type": "scattercarpet"
           }
          ],
          "scattergeo": [
           {
            "marker": {
             "colorbar": {
              "outlinewidth": 0,
              "ticks": ""
             }
            },
            "type": "scattergeo"
           }
          ],
          "scattergl": [
           {
            "marker": {
             "colorbar": {
              "outlinewidth": 0,
              "ticks": ""
             }
            },
            "type": "scattergl"
           }
          ],
          "scattermap": [
           {
            "marker": {
             "colorbar": {
              "outlinewidth": 0,
              "ticks": ""
             }
            },
            "type": "scattermap"
           }
          ],
          "scattermapbox": [
           {
            "marker": {
             "colorbar": {
              "outlinewidth": 0,
              "ticks": ""
             }
            },
            "type": "scattermapbox"
           }
          ],
          "scatterpolar": [
           {
            "marker": {
             "colorbar": {
              "outlinewidth": 0,
              "ticks": ""
             }
            },
            "type": "scatterpolar"
           }
          ],
          "scatterpolargl": [
           {
            "marker": {
             "colorbar": {
              "outlinewidth": 0,
              "ticks": ""
             }
            },
            "type": "scatterpolargl"
           }
          ],
          "scatterternary": [
           {
            "marker": {
             "colorbar": {
              "outlinewidth": 0,
              "ticks": ""
             }
            },
            "type": "scatterternary"
           }
          ],
          "surface": [
           {
            "colorbar": {
             "outlinewidth": 0,
             "ticks": ""
            },
            "colorscale": [
             [
              0,
              "#0d0887"
             ],
             [
              0.1111111111111111,
              "#46039f"
             ],
             [
              0.2222222222222222,
              "#7201a8"
             ],
             [
              0.3333333333333333,
              "#9c179e"
             ],
             [
              0.4444444444444444,
              "#bd3786"
             ],
             [
              0.5555555555555556,
              "#d8576b"
             ],
             [
              0.6666666666666666,
              "#ed7953"
             ],
             [
              0.7777777777777778,
              "#fb9f3a"
             ],
             [
              0.8888888888888888,
              "#fdca26"
             ],
             [
              1,
              "#f0f921"
             ]
            ],
            "type": "surface"
           }
          ],
          "table": [
           {
            "cells": {
             "fill": {
              "color": "#EBF0F8"
             },
             "line": {
              "color": "white"
             }
            },
            "header": {
             "fill": {
              "color": "#C8D4E3"
             },
             "line": {
              "color": "white"
             }
            },
            "type": "table"
           }
          ]
         },
         "layout": {
          "annotationdefaults": {
           "arrowcolor": "#2a3f5f",
           "arrowhead": 0,
           "arrowwidth": 1
          },
          "autotypenumbers": "strict",
          "coloraxis": {
           "colorbar": {
            "outlinewidth": 0,
            "ticks": ""
           }
          },
          "colorscale": {
           "diverging": [
            [
             0,
             "#8e0152"
            ],
            [
             0.1,
             "#c51b7d"
            ],
            [
             0.2,
             "#de77ae"
            ],
            [
             0.3,
             "#f1b6da"
            ],
            [
             0.4,
             "#fde0ef"
            ],
            [
             0.5,
             "#f7f7f7"
            ],
            [
             0.6,
             "#e6f5d0"
            ],
            [
             0.7,
             "#b8e186"
            ],
            [
             0.8,
             "#7fbc41"
            ],
            [
             0.9,
             "#4d9221"
            ],
            [
             1,
             "#276419"
            ]
           ],
           "sequential": [
            [
             0,
             "#0d0887"
            ],
            [
             0.1111111111111111,
             "#46039f"
            ],
            [
             0.2222222222222222,
             "#7201a8"
            ],
            [
             0.3333333333333333,
             "#9c179e"
            ],
            [
             0.4444444444444444,
             "#bd3786"
            ],
            [
             0.5555555555555556,
             "#d8576b"
            ],
            [
             0.6666666666666666,
             "#ed7953"
            ],
            [
             0.7777777777777778,
             "#fb9f3a"
            ],
            [
             0.8888888888888888,
             "#fdca26"
            ],
            [
             1,
             "#f0f921"
            ]
           ],
           "sequentialminus": [
            [
             0,
             "#0d0887"
            ],
            [
             0.1111111111111111,
             "#46039f"
            ],
            [
             0.2222222222222222,
             "#7201a8"
            ],
            [
             0.3333333333333333,
             "#9c179e"
            ],
            [
             0.4444444444444444,
             "#bd3786"
            ],
            [
             0.5555555555555556,
             "#d8576b"
            ],
            [
             0.6666666666666666,
             "#ed7953"
            ],
            [
             0.7777777777777778,
             "#fb9f3a"
            ],
            [
             0.8888888888888888,
             "#fdca26"
            ],
            [
             1,
             "#f0f921"
            ]
           ]
          },
          "colorway": [
           "#636efa",
           "#EF553B",
           "#00cc96",
           "#ab63fa",
           "#FFA15A",
           "#19d3f3",
           "#FF6692",
           "#B6E880",
           "#FF97FF",
           "#FECB52"
          ],
          "font": {
           "color": "#2a3f5f"
          },
          "geo": {
           "bgcolor": "white",
           "lakecolor": "white",
           "landcolor": "#E5ECF6",
           "showlakes": true,
           "showland": true,
           "subunitcolor": "white"
          },
          "hoverlabel": {
           "align": "left"
          },
          "hovermode": "closest",
          "mapbox": {
           "style": "light"
          },
          "paper_bgcolor": "white",
          "plot_bgcolor": "#E5ECF6",
          "polar": {
           "angularaxis": {
            "gridcolor": "white",
            "linecolor": "white",
            "ticks": ""
           },
           "bgcolor": "#E5ECF6",
           "radialaxis": {
            "gridcolor": "white",
            "linecolor": "white",
            "ticks": ""
           }
          },
          "scene": {
           "xaxis": {
            "backgroundcolor": "#E5ECF6",
            "gridcolor": "white",
            "gridwidth": 2,
            "linecolor": "white",
            "showbackground": true,
            "ticks": "",
            "zerolinecolor": "white"
           },
           "yaxis": {
            "backgroundcolor": "#E5ECF6",
            "gridcolor": "white",
            "gridwidth": 2,
            "linecolor": "white",
            "showbackground": true,
            "ticks": "",
            "zerolinecolor": "white"
           },
           "zaxis": {
            "backgroundcolor": "#E5ECF6",
            "gridcolor": "white",
            "gridwidth": 2,
            "linecolor": "white",
            "showbackground": true,
            "ticks": "",
            "zerolinecolor": "white"
           }
          },
          "shapedefaults": {
           "line": {
            "color": "#2a3f5f"
           }
          },
          "ternary": {
           "aaxis": {
            "gridcolor": "white",
            "linecolor": "white",
            "ticks": ""
           },
           "baxis": {
            "gridcolor": "white",
            "linecolor": "white",
            "ticks": ""
           },
           "bgcolor": "#E5ECF6",
           "caxis": {
            "gridcolor": "white",
            "linecolor": "white",
            "ticks": ""
           }
          },
          "title": {
           "x": 0.05
          },
          "xaxis": {
           "automargin": true,
           "gridcolor": "white",
           "linecolor": "white",
           "ticks": "",
           "title": {
            "standoff": 15
           },
           "zerolinecolor": "white",
           "zerolinewidth": 2
          },
          "yaxis": {
           "automargin": true,
           "gridcolor": "white",
           "linecolor": "white",
           "ticks": "",
           "title": {
            "standoff": 15
           },
           "zerolinecolor": "white",
           "zerolinewidth": 2
          }
         }
        },
        "title": {
         "text": "Feature Correlation with Heart Risk"
        },
        "xaxis": {
         "anchor": "y",
         "domain": [
          0,
          1
         ],
         "title": {
          "text": "x"
         }
        },
        "yaxis": {
         "anchor": "x",
         "domain": [
          0,
          1
         ],
         "title": {
          "text": "index"
         }
        }
       }
      }
     },
     "metadata": {},
     "output_type": "display_data"
    }
   ],
   "source": [
    "import plotly.express as px\n",
    "\n",
    "corr = df.corr()['Heart_Risk'].drop('Heart_Risk').sort_values(ascending=False)\n",
    "fig = px.bar(corr, x=corr.values, y=corr.index,\n",
    "             title=\"Feature Correlation with Heart Risk\",\n",
    "             orientation='h')\n",
    "fig.show()"
   ]
  },
  {
   "cell_type": "code",
   "execution_count": 41,
   "metadata": {},
   "outputs": [
    {
     "data": {
      "image/png": "[encoded data removed]",
      "text/plain": [
       "<Figure size 1000x600 with 2 Axes>"
      ]
     },
     "metadata": {},
     "output_type": "display_data"
    }
   ],
   "source": [
    "corr_matrix = df.corr()\n",
    "plt.figure(figsize=(10, 6))\n",
    "sns.heatmap(corr_matrix, annot=True, cmap='coolwarm', linewidths=0.5)\n",
    "plt.title(\"Correlation Matrix\")\n",
    "plt.show()\n"
   ]
  },
  {
   "cell_type": "markdown",
   "metadata": {},
   "source": [
    "- Physical symptoms (such as cold sweats, nausea, chest pain, shortness of breath) are the strongest indicators of heart disease risk.\n",
    "- Age, sedentary lifestyle and obesity are important, but their impact is less compared to direct symptoms.\n",
    "- Chronic diseases such as diabetes, hypertension and family history have a moderate impact.\n",
    "- Smoking is a risk factor but less important than other factors in this group."
   ]
  }
 ],
 "metadata": {
  "kernelspec": {
   "display_name": "Python 3",
   "language": "python",
   "name": "python3"
  },
  "language_info": {
   "codemirror_mode": {
    "name": "ipython",
    "version": 3
   },
   "file_extension": ".py",
   "mimetype": "text/x-python",
   "name": "python",
   "nbconvert_exporter": "python",
   "pygments_lexer": "ipython3",
   "version": "3.11.9"
  }
 },
 "nbformat": 4,
 "nbformat_minor": 2
}
